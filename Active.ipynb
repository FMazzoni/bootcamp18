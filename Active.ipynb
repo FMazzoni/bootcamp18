{
 "cells": [
  {
   "cell_type": "markdown",
   "metadata": {},
   "source": [
    "# Sex Distribution in STEM Majors"
   ]
  },
  {
   "cell_type": "markdown",
   "metadata": {},
   "source": [
    "## Fernando Mazzoni\n",
    "## June 5th 2018"
   ]
  },
  {
   "cell_type": "code",
   "execution_count": 1,
   "metadata": {
    "collapsed": true
   },
   "outputs": [],
   "source": [
    "import numpy as np\n",
    "import pandas as pd\n",
    "import matplotlib as mpl\n",
    "import matplotlib.pyplot as plt\n",
    "\n",
    "import statsmodels.formula.api as smf\n",
    "\n",
    "%matplotlib inline"
   ]
  },
  {
   "cell_type": "markdown",
   "metadata": {},
   "source": [
    "# Background"
   ]
  },
  {
   "cell_type": "markdown",
   "metadata": {},
   "source": [
    "Using \"Bachelors’ Degrees by Major and Sex, Massachusetts, 2015-2016\"\n",
    "by The National Center for Education Statistics , the following journal shows the sex distribution of Massachusetts college students in stem fields "
   ]
  },
  {
   "cell_type": "code",
   "execution_count": 2,
   "metadata": {
    "collapsed": true
   },
   "outputs": [],
   "source": [
    "Dataset = pd.read_csv(\"bachelors_major_ma_2015_16.csv\")"
   ]
  },
  {
   "cell_type": "code",
   "execution_count": 3,
   "metadata": {},
   "outputs": [
    {
     "data": {
      "text/html": [
       "<div>\n",
       "<style>\n",
       "    .dataframe thead tr:only-child th {\n",
       "        text-align: right;\n",
       "    }\n",
       "\n",
       "    .dataframe thead th {\n",
       "        text-align: left;\n",
       "    }\n",
       "\n",
       "    .dataframe tbody tr th {\n",
       "        vertical-align: top;\n",
       "    }\n",
       "</style>\n",
       "<table border=\"1\" class=\"dataframe\">\n",
       "  <thead>\n",
       "    <tr style=\"text-align: right;\">\n",
       "      <th></th>\n",
       "      <th>UnitID</th>\n",
       "      <th>Institution Name</th>\n",
       "      <th>City location of institution (HD2015)</th>\n",
       "      <th>Institution open to the general public (HD2015)</th>\n",
       "      <th>Applicants total (ADM2015_RV)</th>\n",
       "      <th>Admissions total (ADM2015_RV)</th>\n",
       "      <th>Enrolled total (ADM2015_RV)</th>\n",
       "      <th>Unnamed: 7</th>\n",
       "      <th>Grand total (C2016_A  First major  Agriculture  Agriculture Operations and Related Sciences  Bachelor's degree)</th>\n",
       "      <th>Grand total men (C2016_A  First major  Agriculture  Agriculture Operations and Related Sciences  Bachelor's degree)</th>\n",
       "      <th>...</th>\n",
       "      <th>Grand total women (C2016_A  First major  Health Professions and Related Programs  Bachelor's degree)</th>\n",
       "      <th>Grand total (C2016_A  First major  Business  Management  Marketing  and Related Support Services  Bachelor's degree)</th>\n",
       "      <th>Grand total men (C2016_A  First major  Business  Management  Marketing  and Related Support Services  Bachelor's degree)</th>\n",
       "      <th>Grand total women (C2016_A  First major  Business  Management  Marketing  and Related Support Services  Bachelor's degree)</th>\n",
       "      <th>Grand total (C2016_A  First major  History  Bachelor's degree)</th>\n",
       "      <th>Grand total men (C2016_A  First major  History  Bachelor's degree)</th>\n",
       "      <th>Grand total women (C2016_A  First major  History  Bachelor's degree)</th>\n",
       "      <th>Grand total (C2016_A  First major  Grand total  Bachelor's degree)</th>\n",
       "      <th>Grand total men (C2016_A  First major  Grand total  Bachelor's degree)</th>\n",
       "      <th>Grand total women (C2016_A  First major  Grand total  Bachelor's degree)</th>\n",
       "    </tr>\n",
       "  </thead>\n",
       "  <tbody>\n",
       "    <tr>\n",
       "      <th>0</th>\n",
       "      <td>419147</td>\n",
       "      <td>Ailano School of Cosmetology</td>\n",
       "      <td>Brockton</td>\n",
       "      <td>1.0</td>\n",
       "      <td>NaN</td>\n",
       "      <td>NaN</td>\n",
       "      <td>NaN</td>\n",
       "      <td>NaN</td>\n",
       "      <td>NaN</td>\n",
       "      <td>NaN</td>\n",
       "      <td>...</td>\n",
       "      <td>NaN</td>\n",
       "      <td>NaN</td>\n",
       "      <td>NaN</td>\n",
       "      <td>NaN</td>\n",
       "      <td>NaN</td>\n",
       "      <td>NaN</td>\n",
       "      <td>NaN</td>\n",
       "      <td>NaN</td>\n",
       "      <td>NaN</td>\n",
       "      <td>NaN</td>\n",
       "    </tr>\n",
       "    <tr>\n",
       "      <th>1</th>\n",
       "      <td>476735</td>\n",
       "      <td>Alexander Academy</td>\n",
       "      <td>Fitchburg</td>\n",
       "      <td>1.0</td>\n",
       "      <td>NaN</td>\n",
       "      <td>NaN</td>\n",
       "      <td>NaN</td>\n",
       "      <td>NaN</td>\n",
       "      <td>NaN</td>\n",
       "      <td>NaN</td>\n",
       "      <td>...</td>\n",
       "      <td>NaN</td>\n",
       "      <td>NaN</td>\n",
       "      <td>NaN</td>\n",
       "      <td>NaN</td>\n",
       "      <td>NaN</td>\n",
       "      <td>NaN</td>\n",
       "      <td>NaN</td>\n",
       "      <td>NaN</td>\n",
       "      <td>NaN</td>\n",
       "      <td>NaN</td>\n",
       "    </tr>\n",
       "    <tr>\n",
       "      <th>2</th>\n",
       "      <td>487144</td>\n",
       "      <td>American Academy of Personal Training-Boston C...</td>\n",
       "      <td>Boston</td>\n",
       "      <td>1.0</td>\n",
       "      <td>NaN</td>\n",
       "      <td>NaN</td>\n",
       "      <td>NaN</td>\n",
       "      <td>NaN</td>\n",
       "      <td>NaN</td>\n",
       "      <td>NaN</td>\n",
       "      <td>...</td>\n",
       "      <td>NaN</td>\n",
       "      <td>NaN</td>\n",
       "      <td>NaN</td>\n",
       "      <td>NaN</td>\n",
       "      <td>NaN</td>\n",
       "      <td>NaN</td>\n",
       "      <td>NaN</td>\n",
       "      <td>NaN</td>\n",
       "      <td>NaN</td>\n",
       "      <td>NaN</td>\n",
       "    </tr>\n",
       "    <tr>\n",
       "      <th>3</th>\n",
       "      <td>164447</td>\n",
       "      <td>American International College</td>\n",
       "      <td>Springfield</td>\n",
       "      <td>1.0</td>\n",
       "      <td>2060.0</td>\n",
       "      <td>1301.0</td>\n",
       "      <td>355.0</td>\n",
       "      <td>NaN</td>\n",
       "      <td>NaN</td>\n",
       "      <td>NaN</td>\n",
       "      <td>...</td>\n",
       "      <td>85.0</td>\n",
       "      <td>45.0</td>\n",
       "      <td>33.0</td>\n",
       "      <td>12.0</td>\n",
       "      <td>3.0</td>\n",
       "      <td>3.0</td>\n",
       "      <td>0.0</td>\n",
       "      <td>279.0</td>\n",
       "      <td>111.0</td>\n",
       "      <td>168.0</td>\n",
       "    </tr>\n",
       "    <tr>\n",
       "      <th>4</th>\n",
       "      <td>164465</td>\n",
       "      <td>Amherst College</td>\n",
       "      <td>Amherst</td>\n",
       "      <td>1.0</td>\n",
       "      <td>8568.0</td>\n",
       "      <td>1210.0</td>\n",
       "      <td>477.0</td>\n",
       "      <td>NaN</td>\n",
       "      <td>NaN</td>\n",
       "      <td>NaN</td>\n",
       "      <td>...</td>\n",
       "      <td>NaN</td>\n",
       "      <td>NaN</td>\n",
       "      <td>NaN</td>\n",
       "      <td>NaN</td>\n",
       "      <td>29.0</td>\n",
       "      <td>17.0</td>\n",
       "      <td>12.0</td>\n",
       "      <td>432.0</td>\n",
       "      <td>224.0</td>\n",
       "      <td>208.0</td>\n",
       "    </tr>\n",
       "  </tbody>\n",
       "</table>\n",
       "<p>5 rows × 125 columns</p>\n",
       "</div>"
      ],
      "text/plain": [
       "   UnitID                                   Institution Name  \\\n",
       "0  419147                       Ailano School of Cosmetology   \n",
       "1  476735                                  Alexander Academy   \n",
       "2  487144  American Academy of Personal Training-Boston C...   \n",
       "3  164447                     American International College   \n",
       "4  164465                                    Amherst College   \n",
       "\n",
       "  City location of institution (HD2015)  \\\n",
       "0                              Brockton   \n",
       "1                             Fitchburg   \n",
       "2                                Boston   \n",
       "3                           Springfield   \n",
       "4                               Amherst   \n",
       "\n",
       "   Institution open to the general public (HD2015)  \\\n",
       "0                                              1.0   \n",
       "1                                              1.0   \n",
       "2                                              1.0   \n",
       "3                                              1.0   \n",
       "4                                              1.0   \n",
       "\n",
       "   Applicants total (ADM2015_RV)  Admissions total (ADM2015_RV)  \\\n",
       "0                            NaN                            NaN   \n",
       "1                            NaN                            NaN   \n",
       "2                            NaN                            NaN   \n",
       "3                         2060.0                         1301.0   \n",
       "4                         8568.0                         1210.0   \n",
       "\n",
       "   Enrolled total (ADM2015_RV)  Unnamed: 7  \\\n",
       "0                          NaN         NaN   \n",
       "1                          NaN         NaN   \n",
       "2                          NaN         NaN   \n",
       "3                        355.0         NaN   \n",
       "4                        477.0         NaN   \n",
       "\n",
       "   Grand total (C2016_A  First major  Agriculture  Agriculture Operations and Related Sciences  Bachelor's degree)  \\\n",
       "0                                                NaN                                                                 \n",
       "1                                                NaN                                                                 \n",
       "2                                                NaN                                                                 \n",
       "3                                                NaN                                                                 \n",
       "4                                                NaN                                                                 \n",
       "\n",
       "   Grand total men (C2016_A  First major  Agriculture  Agriculture Operations and Related Sciences  Bachelor's degree)  \\\n",
       "0                                                NaN                                                                     \n",
       "1                                                NaN                                                                     \n",
       "2                                                NaN                                                                     \n",
       "3                                                NaN                                                                     \n",
       "4                                                NaN                                                                     \n",
       "\n",
       "                                     ...                                     \\\n",
       "0                                    ...                                      \n",
       "1                                    ...                                      \n",
       "2                                    ...                                      \n",
       "3                                    ...                                      \n",
       "4                                    ...                                      \n",
       "\n",
       "   Grand total women (C2016_A  First major  Health Professions and Related Programs  Bachelor's degree)  \\\n",
       "0                                                NaN                                                      \n",
       "1                                                NaN                                                      \n",
       "2                                                NaN                                                      \n",
       "3                                               85.0                                                      \n",
       "4                                                NaN                                                      \n",
       "\n",
       "   Grand total (C2016_A  First major  Business  Management  Marketing  and Related Support Services  Bachelor's degree)  \\\n",
       "0                                                NaN                                                                      \n",
       "1                                                NaN                                                                      \n",
       "2                                                NaN                                                                      \n",
       "3                                               45.0                                                                      \n",
       "4                                                NaN                                                                      \n",
       "\n",
       "   Grand total men (C2016_A  First major  Business  Management  Marketing  and Related Support Services  Bachelor's degree)  \\\n",
       "0                                                NaN                                                                          \n",
       "1                                                NaN                                                                          \n",
       "2                                                NaN                                                                          \n",
       "3                                               33.0                                                                          \n",
       "4                                                NaN                                                                          \n",
       "\n",
       "   Grand total women (C2016_A  First major  Business  Management  Marketing  and Related Support Services  Bachelor's degree)  \\\n",
       "0                                                NaN                                                                            \n",
       "1                                                NaN                                                                            \n",
       "2                                                NaN                                                                            \n",
       "3                                               12.0                                                                            \n",
       "4                                                NaN                                                                            \n",
       "\n",
       "   Grand total (C2016_A  First major  History  Bachelor's degree)  \\\n",
       "0                                                NaN                \n",
       "1                                                NaN                \n",
       "2                                                NaN                \n",
       "3                                                3.0                \n",
       "4                                               29.0                \n",
       "\n",
       "   Grand total men (C2016_A  First major  History  Bachelor's degree)  \\\n",
       "0                                                NaN                    \n",
       "1                                                NaN                    \n",
       "2                                                NaN                    \n",
       "3                                                3.0                    \n",
       "4                                               17.0                    \n",
       "\n",
       "   Grand total women (C2016_A  First major  History  Bachelor's degree)  \\\n",
       "0                                                NaN                      \n",
       "1                                                NaN                      \n",
       "2                                                NaN                      \n",
       "3                                                0.0                      \n",
       "4                                               12.0                      \n",
       "\n",
       "   Grand total (C2016_A  First major  Grand total  Bachelor's degree)  \\\n",
       "0                                                NaN                    \n",
       "1                                                NaN                    \n",
       "2                                                NaN                    \n",
       "3                                              279.0                    \n",
       "4                                              432.0                    \n",
       "\n",
       "   Grand total men (C2016_A  First major  Grand total  Bachelor's degree)  \\\n",
       "0                                                NaN                        \n",
       "1                                                NaN                        \n",
       "2                                                NaN                        \n",
       "3                                              111.0                        \n",
       "4                                              224.0                        \n",
       "\n",
       "   Grand total women (C2016_A  First major  Grand total  Bachelor's degree)  \n",
       "0                                                NaN                         \n",
       "1                                                NaN                         \n",
       "2                                                NaN                         \n",
       "3                                              168.0                         \n",
       "4                                              208.0                         \n",
       "\n",
       "[5 rows x 125 columns]"
      ]
     },
     "execution_count": 3,
     "metadata": {},
     "output_type": "execute_result"
    }
   ],
   "source": [
    "Dataset[:5]"
   ]
  },
  {
   "cell_type": "markdown",
   "metadata": {},
   "source": [
    "Particulary Engineering, Physical Sciences, and Math majors are sampled in this journal"
   ]
  },
  {
   "cell_type": "code",
   "execution_count": 4,
   "metadata": {},
   "outputs": [
    {
     "data": {
      "text/html": [
       "<div>\n",
       "<style>\n",
       "    .dataframe thead tr:only-child th {\n",
       "        text-align: right;\n",
       "    }\n",
       "\n",
       "    .dataframe thead th {\n",
       "        text-align: left;\n",
       "    }\n",
       "\n",
       "    .dataframe tbody tr th {\n",
       "        vertical-align: top;\n",
       "    }\n",
       "</style>\n",
       "<table border=\"1\" class=\"dataframe\">\n",
       "  <thead>\n",
       "    <tr style=\"text-align: right;\">\n",
       "      <th></th>\n",
       "      <th>Enrolled total (ADM2015_RV)</th>\n",
       "      <th>Grand total men (C2016_A  First major  Engineering  Bachelor's degree)</th>\n",
       "      <th>Grand total women (C2016_A  First major  Engineering  Bachelor's degree)</th>\n",
       "      <th>Grand total men (C2016_A  First major  Physical Sciences  Bachelor's degree)</th>\n",
       "      <th>Grand total women (C2016_A  First major  Physical Sciences  Bachelor's degree)</th>\n",
       "      <th>Grand total men (C2016_A  First major  Mathematics and Statistics  Bachelor's degree)</th>\n",
       "      <th>Grand total women (C2016_A  First major  Mathematics and Statistics  Bachelor's degree)</th>\n",
       "    </tr>\n",
       "  </thead>\n",
       "  <tbody>\n",
       "    <tr>\n",
       "      <th>count</th>\n",
       "      <td>16.000000</td>\n",
       "      <td>16.000000</td>\n",
       "      <td>16.000000</td>\n",
       "      <td>16.00000</td>\n",
       "      <td>16.000000</td>\n",
       "      <td>16.000000</td>\n",
       "      <td>16.000000</td>\n",
       "    </tr>\n",
       "    <tr>\n",
       "      <th>mean</th>\n",
       "      <td>1550.687500</td>\n",
       "      <td>164.312500</td>\n",
       "      <td>63.000000</td>\n",
       "      <td>22.62500</td>\n",
       "      <td>16.125000</td>\n",
       "      <td>26.062500</td>\n",
       "      <td>14.875000</td>\n",
       "    </tr>\n",
       "    <tr>\n",
       "      <th>std</th>\n",
       "      <td>1226.493306</td>\n",
       "      <td>175.746681</td>\n",
       "      <td>73.965758</td>\n",
       "      <td>23.38625</td>\n",
       "      <td>13.744696</td>\n",
       "      <td>34.607261</td>\n",
       "      <td>16.280356</td>\n",
       "    </tr>\n",
       "    <tr>\n",
       "      <th>min</th>\n",
       "      <td>114.000000</td>\n",
       "      <td>0.000000</td>\n",
       "      <td>0.000000</td>\n",
       "      <td>0.00000</td>\n",
       "      <td>0.000000</td>\n",
       "      <td>0.000000</td>\n",
       "      <td>0.000000</td>\n",
       "    </tr>\n",
       "    <tr>\n",
       "      <th>25%</th>\n",
       "      <td>800.750000</td>\n",
       "      <td>14.500000</td>\n",
       "      <td>3.750000</td>\n",
       "      <td>6.00000</td>\n",
       "      <td>6.000000</td>\n",
       "      <td>3.000000</td>\n",
       "      <td>4.500000</td>\n",
       "    </tr>\n",
       "    <tr>\n",
       "      <th>50%</th>\n",
       "      <td>1347.000000</td>\n",
       "      <td>103.000000</td>\n",
       "      <td>35.000000</td>\n",
       "      <td>15.00000</td>\n",
       "      <td>11.500000</td>\n",
       "      <td>12.000000</td>\n",
       "      <td>10.000000</td>\n",
       "    </tr>\n",
       "    <tr>\n",
       "      <th>75%</th>\n",
       "      <td>1665.000000</td>\n",
       "      <td>294.000000</td>\n",
       "      <td>80.750000</td>\n",
       "      <td>31.75000</td>\n",
       "      <td>28.250000</td>\n",
       "      <td>31.500000</td>\n",
       "      <td>14.750000</td>\n",
       "    </tr>\n",
       "    <tr>\n",
       "      <th>max</th>\n",
       "      <td>4702.000000</td>\n",
       "      <td>519.000000</td>\n",
       "      <td>232.000000</td>\n",
       "      <td>76.00000</td>\n",
       "      <td>39.000000</td>\n",
       "      <td>125.000000</td>\n",
       "      <td>57.000000</td>\n",
       "    </tr>\n",
       "  </tbody>\n",
       "</table>\n",
       "</div>"
      ],
      "text/plain": [
       "       Enrolled total (ADM2015_RV)  \\\n",
       "count                    16.000000   \n",
       "mean                   1550.687500   \n",
       "std                    1226.493306   \n",
       "min                     114.000000   \n",
       "25%                     800.750000   \n",
       "50%                    1347.000000   \n",
       "75%                    1665.000000   \n",
       "max                    4702.000000   \n",
       "\n",
       "       Grand total men (C2016_A  First major  Engineering  Bachelor's degree)  \\\n",
       "count                                          16.000000                        \n",
       "mean                                          164.312500                        \n",
       "std                                           175.746681                        \n",
       "min                                             0.000000                        \n",
       "25%                                            14.500000                        \n",
       "50%                                           103.000000                        \n",
       "75%                                           294.000000                        \n",
       "max                                           519.000000                        \n",
       "\n",
       "       Grand total women (C2016_A  First major  Engineering  Bachelor's degree)  \\\n",
       "count                                          16.000000                          \n",
       "mean                                           63.000000                          \n",
       "std                                            73.965758                          \n",
       "min                                             0.000000                          \n",
       "25%                                             3.750000                          \n",
       "50%                                            35.000000                          \n",
       "75%                                            80.750000                          \n",
       "max                                           232.000000                          \n",
       "\n",
       "       Grand total men (C2016_A  First major  Physical Sciences  Bachelor's degree)  \\\n",
       "count                                           16.00000                              \n",
       "mean                                            22.62500                              \n",
       "std                                             23.38625                              \n",
       "min                                              0.00000                              \n",
       "25%                                              6.00000                              \n",
       "50%                                             15.00000                              \n",
       "75%                                             31.75000                              \n",
       "max                                             76.00000                              \n",
       "\n",
       "       Grand total women (C2016_A  First major  Physical Sciences  Bachelor's degree)  \\\n",
       "count                                          16.000000                                \n",
       "mean                                           16.125000                                \n",
       "std                                            13.744696                                \n",
       "min                                             0.000000                                \n",
       "25%                                             6.000000                                \n",
       "50%                                            11.500000                                \n",
       "75%                                            28.250000                                \n",
       "max                                            39.000000                                \n",
       "\n",
       "       Grand total men (C2016_A  First major  Mathematics and Statistics  Bachelor's degree)  \\\n",
       "count                                          16.000000                                       \n",
       "mean                                           26.062500                                       \n",
       "std                                            34.607261                                       \n",
       "min                                             0.000000                                       \n",
       "25%                                             3.000000                                       \n",
       "50%                                            12.000000                                       \n",
       "75%                                            31.500000                                       \n",
       "max                                           125.000000                                       \n",
       "\n",
       "       Grand total women (C2016_A  First major  Mathematics and Statistics  Bachelor's degree)  \n",
       "count                                          16.000000                                        \n",
       "mean                                           14.875000                                        \n",
       "std                                            16.280356                                        \n",
       "min                                             0.000000                                        \n",
       "25%                                             4.500000                                        \n",
       "50%                                            10.000000                                        \n",
       "75%                                            14.750000                                        \n",
       "max                                            57.000000                                        "
      ]
     },
     "execution_count": 4,
     "metadata": {},
     "output_type": "execute_result"
    }
   ],
   "source": [
    "Major = Dataset[['Institution Name','Enrolled total (ADM2015_RV)',\"Grand total men (C2016_A  First major  Engineering  Bachelor's degree)\",\"Grand total women (C2016_A  First major  Engineering  Bachelor's degree)\",\"Grand total men (C2016_A  First major  Physical Sciences  Bachelor's degree)\",\"Grand total women (C2016_A  First major  Physical Sciences  Bachelor's degree)\", \"Grand total men (C2016_A  First major  Mathematics and Statistics  Bachelor's degree)\",\"Grand total women (C2016_A  First major  Mathematics and Statistics  Bachelor's degree)\"]]\n",
    "Major = Major.dropna()\n",
    "\n",
    "Major.describe()"
   ]
  },
  {
   "cell_type": "code",
   "execution_count": 5,
   "metadata": {
    "scrolled": true
   },
   "outputs": [
    {
     "name": "stdout",
     "output_type": "stream",
     "text": [
      "[[\"Bard College at Simon's Rock\" 117.0 3.0 1.0 1.0 1.0 3.0 2.0]\n",
      " ['Boston University' 3629.0 276.0 101.0 43.0 33.0 57.0 41.0]\n",
      " ['Eastern Nazarene College' 114.0 4.0 0.0 1.0 0.0 0.0 1.0]\n",
      " ['Harvard University' 1660.0 40.0 37.0 62.0 27.0 125.0 57.0]\n",
      " ['Massachusetts Institute of Technology' 1106.0 236.0 232.0 50.0 36.0 58.0\n",
      "  14.0]\n",
      " ['Merrimack College' 828.0 24.0 3.0 3.0 1.0 3.0 10.0]\n",
      " ['Northeastern University' 2797.0 519.0 148.0 28.0 24.0 23.0 17.0]\n",
      " ['Smith College' 609.0 0.0 33.0 0.0 39.0 0.0 12.0]\n",
      " ['Suffolk University' 1334.0 17.0 4.0 8.0 3.0 3.0 0.0]\n",
      " ['Tufts University' 1360.0 110.0 60.0 22.0 14.0 13.0 10.0]\n",
      " ['University of Massachusetts-Amherst' 4702.0 388.0 74.0 76.0 32.0 70.0\n",
      "  38.0]\n",
      " ['University of Massachusetts-Boston' 1680.0 7.0 1.0 18.0 7.0 11.0 9.0]\n",
      " ['University of Massachusetts-Dartmouth' 1430.0 137.0 23.0 9.0 9.0 11.0\n",
      "  5.0]\n",
      " ['University of Massachusetts-Lowell' 1633.0 348.0 62.0 22.0 18.0 20.0 7.0]\n",
      " ['Western New England University' 719.0 96.0 21.0 7.0 7.0 2.0 3.0]\n",
      " ['Worcester Polytechnic Institute' 1093.0 424.0 208.0 12.0 7.0 18.0 12.0]]\n"
     ]
    }
   ],
   "source": [
    "unis = Major[0 :1]\n",
    "for x in range(len(Major)):\n",
    "    unis = np.vstack((unis , Major[x+1 :(x+2 )] ))\n",
    "\n",
    "print(unis)"
   ]
  },
  {
   "cell_type": "code",
   "execution_count": 20,
   "metadata": {},
   "outputs": [
    {
     "data": {
      "image/png": "[encoded data removed]",
      "text/plain": [
       "<matplotlib.figure.Figure at 0x14f1977d668>"
      ]
     },
     "metadata": {},
     "output_type": "display_data"
    }
   ],
   "source": [
    "#first trial\n",
    "\n",
    "for i in range(len(unis[:,1])):\n",
    "    name = (unis[i,0])\n",
    "    enroll = (unis[i,1])\n",
    "   \n",
    "    m_engin = (unis[i,2])\n",
    "    w_engin =(unis[i,3])\n",
    "    \n",
    "    m_phys = (unis[i,4])\n",
    "    w_phys =(unis[i,5])\n",
    "    \n",
    "    m_math = (unis[i,6])\n",
    "    w_math = (unis[i,7])\n",
    "    \n",
    "    plt.plot(m_engin, w_engin , color='green', marker='o')\n",
    "    plt.plot(m_phys,w_phys , color='blue', marker='o')\n",
    "    plt.plot(m_math, w_math , color='black', marker='o')\n",
    "    \n",
    "plt.title(\"Sex distribution in a given college\")\n",
    "plt.xlabel('# of male students')\n",
    "plt.ylabel('# of female students')\n",
    "plt.show()"
   ]
  },
  {
   "cell_type": "markdown",
   "metadata": {},
   "source": [
    "The 'null hypothisis' is that women and men are present in the stem field equally. To test this out I plotted and gathered the statistics of each major."
   ]
  },
  {
   "cell_type": "markdown",
   "metadata": {},
   "source": [
    "# Testing the  Null Hypothosis"
   ]
  },
  {
   "cell_type": "markdown",
   "metadata": {},
   "source": [
    "To constrain the dataset to just the majors of interest and remove any NaNs, I did the following"
   ]
  },
  {
   "cell_type": "code",
   "execution_count": 22,
   "metadata": {},
   "outputs": [
    {
     "data": {
      "text/html": [
       "<div>\n",
       "<style>\n",
       "    .dataframe thead tr:only-child th {\n",
       "        text-align: right;\n",
       "    }\n",
       "\n",
       "    .dataframe thead th {\n",
       "        text-align: left;\n",
       "    }\n",
       "\n",
       "    .dataframe tbody tr th {\n",
       "        vertical-align: top;\n",
       "    }\n",
       "</style>\n",
       "<table border=\"1\" class=\"dataframe\">\n",
       "  <thead>\n",
       "    <tr style=\"text-align: right;\">\n",
       "      <th></th>\n",
       "      <th>Institution Name</th>\n",
       "      <th>Enrolled total (ADM2015_RV)</th>\n",
       "      <th>Grand total men (C2016_A  First major  Engineering  Bachelor's degree)</th>\n",
       "      <th>Grand total women (C2016_A  First major  Engineering  Bachelor's degree)</th>\n",
       "      <th>Grand total men (C2016_A  First major  Physical Sciences  Bachelor's degree)</th>\n",
       "      <th>Grand total women (C2016_A  First major  Physical Sciences  Bachelor's degree)</th>\n",
       "      <th>Grand total men (C2016_A  First major  Mathematics and Statistics  Bachelor's degree)</th>\n",
       "      <th>Grand total women (C2016_A  First major  Mathematics and Statistics  Bachelor's degree)</th>\n",
       "    </tr>\n",
       "  </thead>\n",
       "  <tbody>\n",
       "    <tr>\n",
       "      <th>11</th>\n",
       "      <td>Bard College at Simon's Rock</td>\n",
       "      <td>117.0</td>\n",
       "      <td>3.0</td>\n",
       "      <td>1.0</td>\n",
       "      <td>1.0</td>\n",
       "      <td>1.0</td>\n",
       "      <td>3.0</td>\n",
       "      <td>2.0</td>\n",
       "    </tr>\n",
       "    <tr>\n",
       "      <th>28</th>\n",
       "      <td>Boston University</td>\n",
       "      <td>3629.0</td>\n",
       "      <td>276.0</td>\n",
       "      <td>101.0</td>\n",
       "      <td>43.0</td>\n",
       "      <td>33.0</td>\n",
       "      <td>57.0</td>\n",
       "      <td>41.0</td>\n",
       "    </tr>\n",
       "    <tr>\n",
       "      <th>47</th>\n",
       "      <td>Eastern Nazarene College</td>\n",
       "      <td>114.0</td>\n",
       "      <td>4.0</td>\n",
       "      <td>0.0</td>\n",
       "      <td>1.0</td>\n",
       "      <td>0.0</td>\n",
       "      <td>0.0</td>\n",
       "      <td>1.0</td>\n",
       "    </tr>\n",
       "    <tr>\n",
       "      <th>68</th>\n",
       "      <td>Harvard University</td>\n",
       "      <td>1660.0</td>\n",
       "      <td>40.0</td>\n",
       "      <td>37.0</td>\n",
       "      <td>62.0</td>\n",
       "      <td>27.0</td>\n",
       "      <td>125.0</td>\n",
       "      <td>57.0</td>\n",
       "    </tr>\n",
       "    <tr>\n",
       "      <th>96</th>\n",
       "      <td>Massachusetts Institute of Technology</td>\n",
       "      <td>1106.0</td>\n",
       "      <td>236.0</td>\n",
       "      <td>232.0</td>\n",
       "      <td>50.0</td>\n",
       "      <td>36.0</td>\n",
       "      <td>58.0</td>\n",
       "      <td>14.0</td>\n",
       "    </tr>\n",
       "  </tbody>\n",
       "</table>\n",
       "</div>"
      ],
      "text/plain": [
       "                         Institution Name  Enrolled total (ADM2015_RV)  \\\n",
       "11           Bard College at Simon's Rock                        117.0   \n",
       "28                      Boston University                       3629.0   \n",
       "47               Eastern Nazarene College                        114.0   \n",
       "68                     Harvard University                       1660.0   \n",
       "96  Massachusetts Institute of Technology                       1106.0   \n",
       "\n",
       "    Grand total men (C2016_A  First major  Engineering  Bachelor's degree)  \\\n",
       "11                                                3.0                        \n",
       "28                                              276.0                        \n",
       "47                                                4.0                        \n",
       "68                                               40.0                        \n",
       "96                                              236.0                        \n",
       "\n",
       "    Grand total women (C2016_A  First major  Engineering  Bachelor's degree)  \\\n",
       "11                                                1.0                          \n",
       "28                                              101.0                          \n",
       "47                                                0.0                          \n",
       "68                                               37.0                          \n",
       "96                                              232.0                          \n",
       "\n",
       "    Grand total men (C2016_A  First major  Physical Sciences  Bachelor's degree)  \\\n",
       "11                                                1.0                              \n",
       "28                                               43.0                              \n",
       "47                                                1.0                              \n",
       "68                                               62.0                              \n",
       "96                                               50.0                              \n",
       "\n",
       "    Grand total women (C2016_A  First major  Physical Sciences  Bachelor's degree)  \\\n",
       "11                                                1.0                                \n",
       "28                                               33.0                                \n",
       "47                                                0.0                                \n",
       "68                                               27.0                                \n",
       "96                                               36.0                                \n",
       "\n",
       "    Grand total men (C2016_A  First major  Mathematics and Statistics  Bachelor's degree)  \\\n",
       "11                                                3.0                                       \n",
       "28                                               57.0                                       \n",
       "47                                                0.0                                       \n",
       "68                                              125.0                                       \n",
       "96                                               58.0                                       \n",
       "\n",
       "    Grand total women (C2016_A  First major  Mathematics and Statistics  Bachelor's degree)  \n",
       "11                                                2.0                                        \n",
       "28                                               41.0                                        \n",
       "47                                                1.0                                        \n",
       "68                                               57.0                                        \n",
       "96                                               14.0                                        "
      ]
     },
     "execution_count": 22,
     "metadata": {},
     "output_type": "execute_result"
    }
   ],
   "source": [
    "Major = Dataset[['Institution Name','Enrolled total (ADM2015_RV)',\"Grand total men (C2016_A  First major  Engineering  Bachelor's degree)\",\"Grand total women (C2016_A  First major  Engineering  Bachelor's degree)\",\"Grand total men (C2016_A  First major  Physical Sciences  Bachelor's degree)\",\"Grand total women (C2016_A  First major  Physical Sciences  Bachelor's degree)\", \"Grand total men (C2016_A  First major  Mathematics and Statistics  Bachelor's degree)\",\"Grand total women (C2016_A  First major  Mathematics and Statistics  Bachelor's degree)\"]]\n",
    "Major = Major.dropna()\n",
    "\n",
    "Major.head()"
   ]
  },
  {
   "cell_type": "markdown",
   "metadata": {},
   "source": [
    "## Engineer Model"
   ]
  },
  {
   "cell_type": "markdown",
   "metadata": {},
   "source": [
    "The data is then further constrained to just Men Engineering Majors and to just Women engineering Majors. To see if there is a linear relationship between the # of Men and Women engineering Majors a regression fit was performed."
   ]
  },
  {
   "cell_type": "code",
   "execution_count": 9,
   "metadata": {},
   "outputs": [
    {
     "name": "stderr",
     "output_type": "stream",
     "text": [
      "C:\\Users\\ferna\\Anaconda3\\lib\\site-packages\\scipy\\stats\\stats.py:1334: UserWarning: kurtosistest only valid for n>=20 ... continuing anyway, n=16\n",
      "  \"anyway, n=%i\" % int(n))\n"
     ]
    },
    {
     "data": {
      "text/html": [
       "<table class=\"simpletable\">\n",
       "<caption>OLS Regression Results</caption>\n",
       "<tr>\n",
       "  <th>Dep. Variable:</th>        <td>d_w_engin</td>    <th>  R-squared:         </th> <td>   0.558</td>\n",
       "</tr>\n",
       "<tr>\n",
       "  <th>Model:</th>                   <td>OLS</td>       <th>  Adj. R-squared:    </th> <td>   0.527</td>\n",
       "</tr>\n",
       "<tr>\n",
       "  <th>Method:</th>             <td>Least Squares</td>  <th>  F-statistic:       </th> <td>   17.69</td>\n",
       "</tr>\n",
       "<tr>\n",
       "  <th>Date:</th>             <td>Thu, 07 Jun 2018</td> <th>  Prob (F-statistic):</th> <td>0.000880</td>\n",
       "</tr>\n",
       "<tr>\n",
       "  <th>Time:</th>                 <td>10:41:06</td>     <th>  Log-Likelihood:    </th> <td> -84.508</td>\n",
       "</tr>\n",
       "<tr>\n",
       "  <th>No. Observations:</th>      <td>    16</td>      <th>  AIC:               </th> <td>   173.0</td>\n",
       "</tr>\n",
       "<tr>\n",
       "  <th>Df Residuals:</th>          <td>    14</td>      <th>  BIC:               </th> <td>   174.6</td>\n",
       "</tr>\n",
       "<tr>\n",
       "  <th>Df Model:</th>              <td>     1</td>      <th>                     </th>     <td> </td>   \n",
       "</tr>\n",
       "<tr>\n",
       "  <th>Covariance Type:</th>      <td>nonrobust</td>    <th>                     </th>     <td> </td>   \n",
       "</tr>\n",
       "</table>\n",
       "<table class=\"simpletable\">\n",
       "<tr>\n",
       "      <td></td>         <th>coef</th>     <th>std err</th>      <th>t</th>      <th>P>|t|</th>  <th>[0.025</th>    <th>0.975]</th>  \n",
       "</tr>\n",
       "<tr>\n",
       "  <th>Intercept</th> <td>   11.3304</td> <td>   17.684</td> <td>    0.641</td> <td> 0.532</td> <td>  -26.598</td> <td>   49.259</td>\n",
       "</tr>\n",
       "<tr>\n",
       "  <th>d_m_engin</th> <td>    0.3145</td> <td>    0.075</td> <td>    4.206</td> <td> 0.001</td> <td>    0.154</td> <td>    0.475</td>\n",
       "</tr>\n",
       "</table>\n",
       "<table class=\"simpletable\">\n",
       "<tr>\n",
       "  <th>Omnibus:</th>       <td>16.156</td> <th>  Durbin-Watson:     </th> <td>   1.841</td>\n",
       "</tr>\n",
       "<tr>\n",
       "  <th>Prob(Omnibus):</th> <td> 0.000</td> <th>  Jarque-Bera (JB):  </th> <td>  14.172</td>\n",
       "</tr>\n",
       "<tr>\n",
       "  <th>Skew:</th>          <td> 1.698</td> <th>  Prob(JB):          </th> <td>0.000837</td>\n",
       "</tr>\n",
       "<tr>\n",
       "  <th>Kurtosis:</th>      <td> 6.119</td> <th>  Cond. No.          </th> <td>    329.</td>\n",
       "</tr>\n",
       "</table>"
      ],
      "text/plain": [
       "<class 'statsmodels.iolib.summary.Summary'>\n",
       "\"\"\"\n",
       "                            OLS Regression Results                            \n",
       "==============================================================================\n",
       "Dep. Variable:              d_w_engin   R-squared:                       0.558\n",
       "Model:                            OLS   Adj. R-squared:                  0.527\n",
       "Method:                 Least Squares   F-statistic:                     17.69\n",
       "Date:                Thu, 07 Jun 2018   Prob (F-statistic):           0.000880\n",
       "Time:                        10:41:06   Log-Likelihood:                -84.508\n",
       "No. Observations:                  16   AIC:                             173.0\n",
       "Df Residuals:                      14   BIC:                             174.6\n",
       "Df Model:                           1                                         \n",
       "Covariance Type:            nonrobust                                         \n",
       "==============================================================================\n",
       "                 coef    std err          t      P>|t|      [0.025      0.975]\n",
       "------------------------------------------------------------------------------\n",
       "Intercept     11.3304     17.684      0.641      0.532     -26.598      49.259\n",
       "d_m_engin      0.3145      0.075      4.206      0.001       0.154       0.475\n",
       "==============================================================================\n",
       "Omnibus:                       16.156   Durbin-Watson:                   1.841\n",
       "Prob(Omnibus):                  0.000   Jarque-Bera (JB):               14.172\n",
       "Skew:                           1.698   Prob(JB):                     0.000837\n",
       "Kurtosis:                       6.119   Cond. No.                         329.\n",
       "==============================================================================\n",
       "\n",
       "Warnings:\n",
       "[1] Standard Errors assume that the covariance matrix of the errors is correctly specified.\n",
       "\"\"\""
      ]
     },
     "execution_count": 9,
     "metadata": {},
     "output_type": "execute_result"
    }
   ],
   "source": [
    "d_m_engin = Major[\"Grand total men (C2016_A  First major  Engineering  Bachelor's degree)\"]\n",
    "d_w_engin = Major[\"Grand total women (C2016_A  First major  Engineering  Bachelor's degree)\"]\n",
    "\n",
    "\n",
    "engin_model = smf.ols(formula = 'd_w_engin ~ d_m_engin', data = Major)\n",
    "\n",
    "est = engin_model.fit()\n",
    "est.summary()"
   ]
  },
  {
   "cell_type": "markdown",
   "metadata": {},
   "source": [
    "The following shows a plot of Engineering  Men v. Women Majors. Shown in black is the expected trend if there was an equal # of Male and Female students. Shown in red is the trend for engineering majors."
   ]
  },
  {
   "cell_type": "code",
   "execution_count": 24,
   "metadata": {},
   "outputs": [
    {
     "data": {
      "image/png": "[encoded data removed]",
      "text/plain": [
       "<matplotlib.figure.Figure at 0x14f1972b860>"
      ]
     },
     "metadata": {},
     "output_type": "display_data"
    }
   ],
   "source": [
    "plt.scatter(d_m_engin, d_w_engin, color='green', marker='o')\n",
    "plt.title(\"Sex distribution in a given college (Engineering)\")\n",
    "plt.xlabel('# of male students')\n",
    "plt.ylabel('# of female students')\n",
    "\n",
    "o_x = np.linspace(0,500,100) # 100 linearly spaced numbers\n",
    "o_y = 11.3304 + 0.3145*o_x\n",
    "plt.plot(o_x , o_y, color = 'red')\n",
    "\n",
    "\n",
    "p_x = o_x\n",
    "plt.plot(p_x , p_x, color = 'black')\n",
    "\n",
    "\n",
    "plt.show()"
   ]
  },
  {
   "cell_type": "markdown",
   "metadata": {},
   "source": [
    "The statistics can be obtained and then used to see if the null hypothesis is a valid model."
   ]
  },
  {
   "cell_type": "code",
   "execution_count": 26,
   "metadata": {},
   "outputs": [
    {
     "name": "stdout",
     "output_type": "stream",
     "text": [
      "Sample difference: 101.3125\n",
      "Expected population difference: 0\n",
      "Standard Error: 46.1556231973\n",
      "Z =  2.19501965268\n"
     ]
    }
   ],
   "source": [
    "n_obs = len(d_w_engin)\n",
    "\n",
    "\n",
    "mean_w = np.mean(d_w_engin)\n",
    "std_w = np.std(d_w_engin)\n",
    "\n",
    "\n",
    "mean_m =  np.mean(d_m_engin)\n",
    "std_m = np.std(d_m_engin)\n",
    "\n",
    "\n",
    "obs_diff = np.abs( mean_w - mean_m )\n",
    "\n",
    "# Expected difference is that there is no difference\n",
    "#(testing null hypothesis)\n",
    "exp_diff = 0\n",
    "\n",
    "\n",
    "#vng = (sd_g**2/n_g)\n",
    "#vnb = (sd_b**2/n_b)\n",
    "std_err = np.sqrt( ((std_w**2)/n_obs) + ((std_m**2)/n_obs)   )\n",
    "\n",
    "z = (obs_diff - exp_diff)/std_err\n",
    "\n",
    "#print(mean_w)\n",
    "print('Sample difference:' , obs_diff)\n",
    "print('Expected population difference:' , exp_diff)\n",
    "print('Standard Error:' , std_err)\n",
    "print('Z = ' , z)"
   ]
  },
  {
   "cell_type": "markdown",
   "metadata": {},
   "source": [
    "The same can then be performed for the physcial sciences and Math majors. It seems like a function could have been made to more quickly obtain the data."
   ]
  },
  {
   "cell_type": "markdown",
   "metadata": {},
   "source": [
    "## Physical Sciences Model"
   ]
  },
  {
   "cell_type": "code",
   "execution_count": 27,
   "metadata": {},
   "outputs": [
    {
     "name": "stderr",
     "output_type": "stream",
     "text": [
      "C:\\Users\\ferna\\Anaconda3\\lib\\site-packages\\scipy\\stats\\stats.py:1334: UserWarning: kurtosistest only valid for n>=20 ... continuing anyway, n=16\n",
      "  \"anyway, n=%i\" % int(n))\n"
     ]
    },
    {
     "data": {
      "text/html": [
       "<table class=\"simpletable\">\n",
       "<caption>OLS Regression Results</caption>\n",
       "<tr>\n",
       "  <th>Dep. Variable:</th>        <td>d_w_phys</td>     <th>  R-squared:         </th> <td>   0.449</td>\n",
       "</tr>\n",
       "<tr>\n",
       "  <th>Model:</th>                   <td>OLS</td>       <th>  Adj. R-squared:    </th> <td>   0.410</td>\n",
       "</tr>\n",
       "<tr>\n",
       "  <th>Method:</th>             <td>Least Squares</td>  <th>  F-statistic:       </th> <td>   11.42</td>\n",
       "</tr>\n",
       "<tr>\n",
       "  <th>Date:</th>             <td>Thu, 07 Jun 2018</td> <th>  Prob (F-statistic):</th>  <td>0.00449</td>\n",
       "</tr>\n",
       "<tr>\n",
       "  <th>Time:</th>                 <td>11:02:52</td>     <th>  Log-Likelihood:    </th> <td> -59.345</td>\n",
       "</tr>\n",
       "<tr>\n",
       "  <th>No. Observations:</th>      <td>    16</td>      <th>  AIC:               </th> <td>   122.7</td>\n",
       "</tr>\n",
       "<tr>\n",
       "  <th>Df Residuals:</th>          <td>    14</td>      <th>  BIC:               </th> <td>   124.2</td>\n",
       "</tr>\n",
       "<tr>\n",
       "  <th>Df Model:</th>              <td>     1</td>      <th>                     </th>     <td> </td>   \n",
       "</tr>\n",
       "<tr>\n",
       "  <th>Covariance Type:</th>      <td>nonrobust</td>    <th>                     </th>     <td> </td>   \n",
       "</tr>\n",
       "</table>\n",
       "<table class=\"simpletable\">\n",
       "<tr>\n",
       "      <td></td>         <th>coef</th>     <th>std err</th>      <th>t</th>      <th>P>|t|</th>  <th>[0.025</th>    <th>0.975]</th>  \n",
       "</tr>\n",
       "<tr>\n",
       "  <th>Intercept</th> <td>    7.2122</td> <td>    3.731</td> <td>    1.933</td> <td> 0.074</td> <td>   -0.791</td> <td>   15.215</td>\n",
       "</tr>\n",
       "<tr>\n",
       "  <th>d_m_phys</th>  <td>    0.3939</td> <td>    0.117</td> <td>    3.379</td> <td> 0.004</td> <td>    0.144</td> <td>    0.644</td>\n",
       "</tr>\n",
       "</table>\n",
       "<table class=\"simpletable\">\n",
       "<tr>\n",
       "  <th>Omnibus:</th>       <td>20.491</td> <th>  Durbin-Watson:     </th> <td>   2.232</td>\n",
       "</tr>\n",
       "<tr>\n",
       "  <th>Prob(Omnibus):</th> <td> 0.000</td> <th>  Jarque-Bera (JB):  </th> <td>  21.263</td>\n",
       "</tr>\n",
       "<tr>\n",
       "  <th>Skew:</th>          <td> 2.040</td> <th>  Prob(JB):          </th> <td>2.41e-05</td>\n",
       "</tr>\n",
       "<tr>\n",
       "  <th>Kurtosis:</th>      <td> 6.904</td> <th>  Cond. No.          </th> <td>    45.3</td>\n",
       "</tr>\n",
       "</table>"
      ],
      "text/plain": [
       "<class 'statsmodels.iolib.summary.Summary'>\n",
       "\"\"\"\n",
       "                            OLS Regression Results                            \n",
       "==============================================================================\n",
       "Dep. Variable:               d_w_phys   R-squared:                       0.449\n",
       "Model:                            OLS   Adj. R-squared:                  0.410\n",
       "Method:                 Least Squares   F-statistic:                     11.42\n",
       "Date:                Thu, 07 Jun 2018   Prob (F-statistic):            0.00449\n",
       "Time:                        11:02:52   Log-Likelihood:                -59.345\n",
       "No. Observations:                  16   AIC:                             122.7\n",
       "Df Residuals:                      14   BIC:                             124.2\n",
       "Df Model:                           1                                         \n",
       "Covariance Type:            nonrobust                                         \n",
       "==============================================================================\n",
       "                 coef    std err          t      P>|t|      [0.025      0.975]\n",
       "------------------------------------------------------------------------------\n",
       "Intercept      7.2122      3.731      1.933      0.074      -0.791      15.215\n",
       "d_m_phys       0.3939      0.117      3.379      0.004       0.144       0.644\n",
       "==============================================================================\n",
       "Omnibus:                       20.491   Durbin-Watson:                   2.232\n",
       "Prob(Omnibus):                  0.000   Jarque-Bera (JB):               21.263\n",
       "Skew:                           2.040   Prob(JB):                     2.41e-05\n",
       "Kurtosis:                       6.904   Cond. No.                         45.3\n",
       "==============================================================================\n",
       "\n",
       "Warnings:\n",
       "[1] Standard Errors assume that the covariance matrix of the errors is correctly specified.\n",
       "\"\"\""
      ]
     },
     "execution_count": 27,
     "metadata": {},
     "output_type": "execute_result"
    }
   ],
   "source": [
    "d_m_phys = Major[\"Grand total men (C2016_A  First major  Physical Sciences  Bachelor's degree)\"]\n",
    "d_w_phys = Major[\"Grand total women (C2016_A  First major  Physical Sciences  Bachelor's degree)\"]\n",
    "\n",
    "\n",
    "phys_model = smf.ols(formula = 'd_w_phys ~ d_m_phys', data = Major)\n",
    "\n",
    "est = phys_model.fit()\n",
    "est.summary()"
   ]
  },
  {
   "cell_type": "code",
   "execution_count": 28,
   "metadata": {},
   "outputs": [
    {
     "data": {
      "image/png": "[encoded data removed]",
      "text/plain": [
       "<matplotlib.figure.Figure at 0x14f1982dc88>"
      ]
     },
     "metadata": {},
     "output_type": "display_data"
    }
   ],
   "source": [
    "\n",
    "ln_inc_edu = plt.figure()\n",
    "plt.scatter(d_m_phys, d_w_phys, color='Blue', marker='o')\n",
    "plt.title(\"Sex distribution in a given college (Physical Sciences)\")\n",
    "plt.xlabel('# of male students')\n",
    "plt.ylabel('# of female students')\n",
    "\n",
    "o_x = np.linspace(0,80,100) # 100 linearly spaced numbers\n",
    "o_y = 7.2122 + 0.3939*o_x\n",
    "plt.plot(o_x , o_y, color = 'red')\n",
    "\n",
    "\n",
    "p_x = o_x\n",
    "plt.plot(p_x , p_x, color = 'black')\n",
    "\n",
    "plt.show()\n"
   ]
  },
  {
   "cell_type": "code",
   "execution_count": 31,
   "metadata": {},
   "outputs": [
    {
     "name": "stdout",
     "output_type": "stream",
     "text": [
      "Sample difference: 6.5\n",
      "Expected population difference: 0\n",
      "Standard Error: 6.5662191842\n",
      "Z =  0.989915173048\n"
     ]
    }
   ],
   "source": [
    "n_obs = len(d_w_engin)\n",
    "\n",
    "\n",
    "mean_w = np.mean(d_w_phys)\n",
    "std_w = np.std(d_w_phys)\n",
    "\n",
    "\n",
    "mean_m =  np.mean(d_m_phys)\n",
    "std_m = np.std(d_m_phys)\n",
    "\n",
    "\n",
    "obs_diff = np.abs( mean_w - mean_m )\n",
    "\n",
    "# Expected difference is that there is no difference\n",
    "#(testing null hypothesis)\n",
    "exp_diff = 0\n",
    "\n",
    "\n",
    "#vng = (sd_g**2/n_g)\n",
    "#vnb = (sd_b**2/n_b)\n",
    "std_err = np.sqrt( ((std_w**2)/n_obs) + ((std_m**2)/n_obs)   )\n",
    "\n",
    "z = (obs_diff - exp_diff)/std_err\n",
    "\n",
    "\n",
    "print('Sample difference:' , obs_diff)\n",
    "print('Expected population difference:' , exp_diff)\n",
    "print('Standard Error:' , std_err)\n",
    "print('Z = ' , z)"
   ]
  },
  {
   "cell_type": "markdown",
   "metadata": {},
   "source": [
    "## Math Model"
   ]
  },
  {
   "cell_type": "code",
   "execution_count": 32,
   "metadata": {},
   "outputs": [
    {
     "name": "stderr",
     "output_type": "stream",
     "text": [
      "C:\\Users\\ferna\\Anaconda3\\lib\\site-packages\\scipy\\stats\\stats.py:1334: UserWarning: kurtosistest only valid for n>=20 ... continuing anyway, n=16\n",
      "  \"anyway, n=%i\" % int(n))\n"
     ]
    },
    {
     "data": {
      "text/html": [
       "<table class=\"simpletable\">\n",
       "<caption>OLS Regression Results</caption>\n",
       "<tr>\n",
       "  <th>Dep. Variable:</th>        <td>d_w_math</td>     <th>  R-squared:         </th> <td>   0.853</td>\n",
       "</tr>\n",
       "<tr>\n",
       "  <th>Model:</th>                   <td>OLS</td>       <th>  Adj. R-squared:    </th> <td>   0.842</td>\n",
       "</tr>\n",
       "<tr>\n",
       "  <th>Method:</th>             <td>Least Squares</td>  <th>  F-statistic:       </th> <td>   81.05</td>\n",
       "</tr>\n",
       "<tr>\n",
       "  <th>Date:</th>             <td>Thu, 07 Jun 2018</td> <th>  Prob (F-statistic):</th> <td>3.37e-07</td>\n",
       "</tr>\n",
       "<tr>\n",
       "  <th>Time:</th>                 <td>11:03:45</td>     <th>  Log-Likelihood:    </th> <td> -51.503</td>\n",
       "</tr>\n",
       "<tr>\n",
       "  <th>No. Observations:</th>      <td>    16</td>      <th>  AIC:               </th> <td>   107.0</td>\n",
       "</tr>\n",
       "<tr>\n",
       "  <th>Df Residuals:</th>          <td>    14</td>      <th>  BIC:               </th> <td>   108.6</td>\n",
       "</tr>\n",
       "<tr>\n",
       "  <th>Df Model:</th>              <td>     1</td>      <th>                     </th>     <td> </td>   \n",
       "</tr>\n",
       "<tr>\n",
       "  <th>Covariance Type:</th>      <td>nonrobust</td>    <th>                     </th>     <td> </td>   \n",
       "</tr>\n",
       "</table>\n",
       "<table class=\"simpletable\">\n",
       "<tr>\n",
       "      <td></td>         <th>coef</th>     <th>std err</th>      <th>t</th>      <th>P>|t|</th>  <th>[0.025</th>    <th>0.975]</th>  \n",
       "</tr>\n",
       "<tr>\n",
       "  <th>Intercept</th> <td>    3.5532</td> <td>    2.048</td> <td>    1.735</td> <td> 0.105</td> <td>   -0.840</td> <td>    7.946</td>\n",
       "</tr>\n",
       "<tr>\n",
       "  <th>d_m_math</th>  <td>    0.4344</td> <td>    0.048</td> <td>    9.003</td> <td> 0.000</td> <td>    0.331</td> <td>    0.538</td>\n",
       "</tr>\n",
       "</table>\n",
       "<table class=\"simpletable\">\n",
       "<tr>\n",
       "  <th>Omnibus:</th>       <td> 2.127</td> <th>  Durbin-Watson:     </th> <td>   2.327</td>\n",
       "</tr>\n",
       "<tr>\n",
       "  <th>Prob(Omnibus):</th> <td> 0.345</td> <th>  Jarque-Bera (JB):  </th> <td>   0.496</td>\n",
       "</tr>\n",
       "<tr>\n",
       "  <th>Skew:</th>          <td>-0.186</td> <th>  Prob(JB):          </th> <td>   0.780</td>\n",
       "</tr>\n",
       "<tr>\n",
       "  <th>Kurtosis:</th>      <td> 3.778</td> <th>  Cond. No.          </th> <td>    53.8</td>\n",
       "</tr>\n",
       "</table>"
      ],
      "text/plain": [
       "<class 'statsmodels.iolib.summary.Summary'>\n",
       "\"\"\"\n",
       "                            OLS Regression Results                            \n",
       "==============================================================================\n",
       "Dep. Variable:               d_w_math   R-squared:                       0.853\n",
       "Model:                            OLS   Adj. R-squared:                  0.842\n",
       "Method:                 Least Squares   F-statistic:                     81.05\n",
       "Date:                Thu, 07 Jun 2018   Prob (F-statistic):           3.37e-07\n",
       "Time:                        11:03:45   Log-Likelihood:                -51.503\n",
       "No. Observations:                  16   AIC:                             107.0\n",
       "Df Residuals:                      14   BIC:                             108.6\n",
       "Df Model:                           1                                         \n",
       "Covariance Type:            nonrobust                                         \n",
       "==============================================================================\n",
       "                 coef    std err          t      P>|t|      [0.025      0.975]\n",
       "------------------------------------------------------------------------------\n",
       "Intercept      3.5532      2.048      1.735      0.105      -0.840       7.946\n",
       "d_m_math       0.4344      0.048      9.003      0.000       0.331       0.538\n",
       "==============================================================================\n",
       "Omnibus:                        2.127   Durbin-Watson:                   2.327\n",
       "Prob(Omnibus):                  0.345   Jarque-Bera (JB):                0.496\n",
       "Skew:                          -0.186   Prob(JB):                        0.780\n",
       "Kurtosis:                       3.778   Cond. No.                         53.8\n",
       "==============================================================================\n",
       "\n",
       "Warnings:\n",
       "[1] Standard Errors assume that the covariance matrix of the errors is correctly specified.\n",
       "\"\"\""
      ]
     },
     "execution_count": 32,
     "metadata": {},
     "output_type": "execute_result"
    }
   ],
   "source": [
    "d_m_math = Major[\"Grand total men (C2016_A  First major  Mathematics and Statistics  Bachelor's degree)\"]\n",
    "d_w_math = Major[\"Grand total women (C2016_A  First major  Mathematics and Statistics  Bachelor's degree)\"]\n",
    "\n",
    "\n",
    "math_model = smf.ols(formula = 'd_w_math ~ d_m_math', data = Major)\n",
    "\n",
    "est = math_model.fit()\n",
    "est.summary()"
   ]
  },
  {
   "cell_type": "code",
   "execution_count": 33,
   "metadata": {},
   "outputs": [
    {
     "data": {
      "image/png": "[encoded data removed]",
      "text/plain": [
       "<matplotlib.figure.Figure at 0x14f19889278>"
      ]
     },
     "metadata": {},
     "output_type": "display_data"
    }
   ],
   "source": [
    "\n",
    "ln_inc_edu = plt.figure()\n",
    "plt.scatter(d_m_math, d_w_math, color='black', marker='o')\n",
    "plt.title(\"Sex distribution in a given college (Math)\")\n",
    "plt.xlabel('# of male students')\n",
    "plt.ylabel('# of female students')\n",
    "\n",
    "o_x = np.linspace(0,120,100) # 100 linearly spaced numbers\n",
    "o_y = 3.5532 + 0.4344*o_x\n",
    "plt.plot(o_x , o_y, color = 'red')\n",
    "\n",
    "\n",
    "p_x = o_x\n",
    "plt.plot(p_x , p_x, color = 'black')\n",
    "\n",
    "\n",
    "plt.show()\n"
   ]
  },
  {
   "cell_type": "code",
   "execution_count": 35,
   "metadata": {},
   "outputs": [
    {
     "name": "stdout",
     "output_type": "stream",
     "text": [
      "Sample difference: 11.1875\n",
      "Expected population difference: 0\n",
      "Standard Error: 9.25774327506\n",
      "Z =  1.20844785469\n"
     ]
    }
   ],
   "source": [
    "n_obs = len(d_w_engin)\n",
    "\n",
    "\n",
    "mean_w = np.mean(d_w_math)\n",
    "std_w = np.std(d_w_math)\n",
    "\n",
    "\n",
    "mean_m =  np.mean(d_m_math)\n",
    "std_m = np.std(d_m_math)\n",
    "\n",
    "\n",
    "obs_diff = np.abs( mean_w - mean_m )\n",
    "\n",
    "# Expected difference is that there is no difference\n",
    "#(testing null hypothesis)\n",
    "exp_diff = 0\n",
    "\n",
    "\n",
    "#vng = (sd_g**2/n_g)\n",
    "#vnb = (sd_b**2/n_b)\n",
    "std_err = np.sqrt( ((std_w**2)/n_obs) + ((std_m**2)/n_obs)   )\n",
    "\n",
    "z = (obs_diff - exp_diff)/std_err\n",
    "\n",
    "\n",
    "print('Sample difference:' , obs_diff)\n",
    "print('Expected population difference:' , exp_diff)\n",
    "print('Standard Error:' , std_err)\n",
    "print('Z = ' , z)"
   ]
  },
  {
   "cell_type": "markdown",
   "metadata": {},
   "source": [
    "# Conclusion"
   ]
  },
  {
   "cell_type": "markdown",
   "metadata": {},
   "source": [
    "The plots show that many colleges in Massachusetss do have more Stem Male majors than female Majors. A challenge was repeating/copy&pasting the code for each major."
   ]
  },
  {
   "cell_type": "code",
   "execution_count": null,
   "metadata": {
    "collapsed": true
   },
   "outputs": [],
   "source": []
  },
  {
   "cell_type": "code",
   "execution_count": null,
   "metadata": {
    "collapsed": true
   },
   "outputs": [],
   "source": []
  },
  {
   "cell_type": "code",
   "execution_count": null,
   "metadata": {
    "collapsed": true
   },
   "outputs": [],
   "source": []
  },
  {
   "cell_type": "code",
   "execution_count": null,
   "metadata": {
    "collapsed": true
   },
   "outputs": [],
   "source": []
  },
  {
   "cell_type": "code",
   "execution_count": null,
   "metadata": {
    "collapsed": true
   },
   "outputs": [],
   "source": []
  },
  {
   "cell_type": "code",
   "execution_count": null,
   "metadata": {
    "collapsed": true
   },
   "outputs": [],
   "source": []
  },
  {
   "cell_type": "code",
   "execution_count": null,
   "metadata": {
    "collapsed": true
   },
   "outputs": [],
   "source": []
  },
  {
   "cell_type": "code",
   "execution_count": null,
   "metadata": {
    "collapsed": true
   },
   "outputs": [],
   "source": []
  },
  {
   "cell_type": "code",
   "execution_count": null,
   "metadata": {
    "collapsed": true
   },
   "outputs": [],
   "source": []
  },
  {
   "cell_type": "code",
   "execution_count": null,
   "metadata": {
    "collapsed": true
   },
   "outputs": [],
   "source": []
  },
  {
   "cell_type": "code",
   "execution_count": null,
   "metadata": {
    "collapsed": true
   },
   "outputs": [],
   "source": []
  },
  {
   "cell_type": "code",
   "execution_count": null,
   "metadata": {
    "collapsed": true
   },
   "outputs": [],
   "source": []
  },
  {
   "cell_type": "markdown",
   "metadata": {
    "collapsed": true
   },
   "source": [
    "# Junk"
   ]
  },
  {
   "cell_type": "code",
   "execution_count": 28,
   "metadata": {
    "collapsed": true
   },
   "outputs": [],
   "source": [
    "plt.hist?"
   ]
  },
  {
   "cell_type": "code",
   "execution_count": 8,
   "metadata": {},
   "outputs": [
    {
     "data": {
      "image/png": "[encoded data removed]",
      "text/plain": [
       "<matplotlib.figure.Figure at 0x2b8c07cb7f0>"
      ]
     },
     "metadata": {},
     "output_type": "display_data"
    },
    {
     "name": "stdout",
     "output_type": "stream",
     "text": [
      "3637.0\n"
     ]
    }
   ],
   "source": [
    "for i in range(len(unis[:,1])):\n",
    "    name = (unis[i,0])\n",
    "    enroll = (unis[i,1])\n",
    "   \n",
    "    m_engin = (unis[i,2])\n",
    "    w_engin =(unis[i,3])\n",
    "    \n",
    "    loc_engin = m_engin + w_engin\n",
    "    tot_engin = tot_engin + loc_engin\n",
    "    \n",
    "    if m_engin or w_engin > 0:\n",
    "        plt.plot(m_engin, w_engin , color='green', marker='o')\n",
    "    \n",
    "plt.show()   \n",
    "\n",
    "print(tot_engin)"
   ]
  },
  {
   "cell_type": "code",
   "execution_count": 9,
   "metadata": {},
   "outputs": [
    {
     "data": {
      "image/png": "[encoded data removed]",
      "text/plain": [
       "<matplotlib.figure.Figure at 0x2b8c07cb320>"
      ]
     },
     "metadata": {},
     "output_type": "display_data"
    },
    {
     "name": "stdout",
     "output_type": "stream",
     "text": [
      "620.0\n"
     ]
    }
   ],
   "source": [
    "for i in range(len(unis[:,1])):    \n",
    "    m_phys = (unis[i,4])\n",
    "    w_phys =(unis[i,5])\n",
    "    \n",
    "    loc_phys = m_phys + w_phys\n",
    "    tot_phys = tot_phys + loc_phys\n",
    "    \n",
    "    if m_phys or w_phys > 0:\n",
    "        plt.plot(m_phys, w_phys, color='blue', marker='o')\n",
    "plt.show()\n",
    "\n",
    "print(tot_phys)"
   ]
  },
  {
   "cell_type": "code",
   "execution_count": 19,
   "metadata": {},
   "outputs": [
    {
     "ename": "TypeError",
     "evalue": "'float' object cannot be interpreted as an integer",
     "output_type": "error",
     "traceback": [
      "\u001b[1;31m---------------------------------------------------------------------------\u001b[0m",
      "\u001b[1;31mTypeError\u001b[0m                                 Traceback (most recent call last)",
      "\u001b[1;32m<ipython-input-19-c861b2f2ddf9>\u001b[0m in \u001b[0;36m<module>\u001b[1;34m()\u001b[0m\n\u001b[0;32m     17\u001b[0m     \u001b[0mpcent_w\u001b[0m \u001b[1;33m=\u001b[0m \u001b[0mw_math\u001b[0m\u001b[1;33m/\u001b[0m\u001b[0mloc_math\u001b[0m\u001b[1;33m\u001b[0m\u001b[0m\n\u001b[0;32m     18\u001b[0m \u001b[1;33m\u001b[0m\u001b[0m\n\u001b[1;32m---> 19\u001b[1;33m     \u001b[0mconcatenate\u001b[0m\u001b[1;33m(\u001b[0m\u001b[1;33m(\u001b[0m\u001b[0munis\u001b[0m\u001b[1;33m[\u001b[0m\u001b[1;36m0\u001b[0m\u001b[1;33m,\u001b[0m\u001b[1;36m6\u001b[0m\u001b[1;33m]\u001b[0m\u001b[1;33m)\u001b[0m\u001b[1;33m,\u001b[0m\u001b[0mm_math\u001b[0m\u001b[1;33m)\u001b[0m\u001b[1;33m\u001b[0m\u001b[0m\n\u001b[0m\u001b[0;32m     20\u001b[0m \u001b[1;33m\u001b[0m\u001b[0m\n\u001b[0;32m     21\u001b[0m \u001b[0mplt\u001b[0m\u001b[1;33m.\u001b[0m\u001b[0mhist\u001b[0m\u001b[1;33m(\u001b[0m\u001b[0mpcent_w\u001b[0m\u001b[1;33m,\u001b[0m \u001b[0mbins\u001b[0m \u001b[1;33m=\u001b[0m \u001b[1;36m30\u001b[0m\u001b[1;33m)\u001b[0m\u001b[1;33m\u001b[0m\u001b[0m\n",
      "\u001b[1;31mTypeError\u001b[0m: 'float' object cannot be interpreted as an integer"
     ]
    }
   ],
   "source": [
    "\n",
    "m_math = (unis[0,6])\n",
    "w_math = (unis[0,7])\n",
    "    \n",
    "loc_math = m_math + w_math\n",
    "pcent_w = w_math/loc_math\n",
    "\n",
    "\n",
    "for i in range(len(unis[:,1])-1):   \n",
    "    \n",
    "    \n",
    "    \n",
    "    m_math = (unis[i+1,6])\n",
    "    w_math = (unis[i+1,7])\n",
    "    \n",
    "    loc_math = m_math + w_math\n",
    "    pcent_w = w_math/loc_math\n",
    "\n",
    "    concatenate((unis[0,6]),m_math)\n",
    "        \n",
    "plt.hist(pcent_w, bins = 30)\n",
    "plt.show()"
   ]
  },
  {
   "cell_type": "code",
   "execution_count": 10,
   "metadata": {},
   "outputs": [
    {
     "data": {
      "image/png": "[encoded data removed]",
      "text/plain": [
       "<matplotlib.figure.Figure at 0x2b8c07cb780>"
      ]
     },
     "metadata": {},
     "output_type": "display_data"
    },
    {
     "name": "stdout",
     "output_type": "stream",
     "text": [
      "655.0\n"
     ]
    }
   ],
   "source": [
    "for i in range(len(unis[:,1])):   \n",
    "    m_math = (unis[i,6])\n",
    "    w_math = (unis[i,7])\n",
    "    \n",
    "    loc_math = m_math + w_math\n",
    "    tot_math = tot_math + loc_math\n",
    "    if m_math or w_math > 0:\n",
    "        plt.plot(m_math, w_math , color='black', marker='o')\n",
    "    \n",
    "plt.show()\n",
    "\n",
    "print(tot_math)"
   ]
  },
  {
   "cell_type": "code",
   "execution_count": 24,
   "metadata": {},
   "outputs": [
    {
     "name": "stdout",
     "output_type": "stream",
     "text": [
      "['Ailano School of Cosmetology' nan nan nan nan nan nan nan]\n",
      "[['Ailano School of Cosmetology' nan nan ..., nan nan nan]\n",
      " ['Alexander Academy' nan nan ..., nan nan nan]\n",
      " ['American Academy of Personal Training-Boston Campus' nan nan ..., nan\n",
      "  nan nan]\n",
      " ..., \n",
      " ['Williams College' 551.0 nan ..., 38.0 22.0 14.0]\n",
      " ['Worcester Polytechnic Institute' 1093.0 424.0 ..., 7.0 18.0 12.0]\n",
      " ['Worcester State University' 814.0 nan ..., 8.0 3.0 3.0]]\n"
     ]
    }
   ],
   "source": [
    "print(unis[0,:])\n",
    "print(unis[:,:])"
   ]
  },
  {
   "cell_type": "code",
   "execution_count": 65,
   "metadata": {
    "collapsed": true
   },
   "outputs": [],
   "source": [
    "bu = Major[28:29]\n",
    "uml = Major[177:178]\n",
    "uma = Major[173:174]\n",
    "wpi = Major[189:190]\n",
    "wit = Major[182:183]\n",
    "\n"
   ]
  },
  {
   "cell_type": "code",
   "execution_count": 13,
   "metadata": {},
   "outputs": [
    {
     "name": "stdout",
     "output_type": "stream",
     "text": [
      "3637.0 620.0 655.0\n"
     ]
    }
   ],
   "source": [
    "tot_m_engin = 0\n",
    "tot_w_engin = 0\n",
    "tot_engin = 0\n",
    "\n",
    "tot_m_math = 0\n",
    "tot_w_math = 0\n",
    "tot_math = 0\n",
    "\n",
    "tot_m_phys = 0\n",
    "tot_w_phys = 0\n",
    "tot_phys = 0\n",
    "\n",
    "for i in range(len(unis[:,1])):\n",
    "    name = (unis[i,0])\n",
    "    enroll = (unis[i,1])\n",
    "   \n",
    "    m_engin = (unis[i,2])\n",
    "    w_engin =(unis[i,3])\n",
    "    \n",
    "    loc_engin = m_engin + w_engin\n",
    "    tot_engin = tot_engin + loc_engin\n",
    "    \n",
    "    \n",
    "    m_phys = (unis[i,4])\n",
    "    w_phys =(unis[i,5])\n",
    "    \n",
    "    loc_phys = m_phys + w_phys\n",
    "    tot_phys = tot_phys + loc_phys\n",
    "    \n",
    "    \n",
    "    m_math = (unis[i,6])\n",
    "    w_math = (unis[i,7])\n",
    "    \n",
    "    loc_math = m_math + w_math\n",
    "    tot_math = tot_math + loc_math\n",
    "    \n",
    "    \"\"\"\n",
    "    plt.plot(enroll, (m_engin + w_engin) , color='green', marker='o')\n",
    "    plt.plot(enroll, (m_phys + w_phys) , color='blue', marker='o')\n",
    "    plt.plot(enroll,(m_math + w_math) , color='black', marker='o')\n",
    "    \n",
    "    plt.show()\"\"\"\n",
    "\n",
    "print(tot_engin, tot_phys, tot_math)"
   ]
  }
 ],
 "metadata": {
  "kernelspec": {
   "display_name": "Python 3",
   "language": "python",
   "name": "python3"
  },
  "language_info": {
   "codemirror_mode": {
    "name": "ipython",
    "version": 3
   },
   "file_extension": ".py",
   "mimetype": "text/x-python",
   "name": "python",
   "nbconvert_exporter": "python",
   "pygments_lexer": "ipython3",
   "version": "3.6.0"
  }
 },
 "nbformat": 4,
 "nbformat_minor": 2
}
