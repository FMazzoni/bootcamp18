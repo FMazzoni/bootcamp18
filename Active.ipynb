{
 "cells": [
  {
   "cell_type": "markdown",
   "metadata": {},
   "source": [
    "# Sex Distribution in STEM Majors"
   ]
  },
  {
   "cell_type": "markdown",
   "metadata": {},
   "source": [
    "## Fernando Mazzoni\n",
    "## June 5th 2018"
   ]
  },
  {
   "cell_type": "code",
   "execution_count": 1,
   "metadata": {
    "collapsed": true
   },
   "outputs": [],
   "source": [
    "import numpy as np\n",
    "import pandas as pd\n",
    "import matplotlib as mpl\n",
    "import matplotlib.pyplot as plt\n",
    "from numpy import *\n",
    "\n",
    "%matplotlib inline"
   ]
  },
  {
   "cell_type": "markdown",
   "metadata": {},
   "source": [
    "# Background"
   ]
  },
  {
   "cell_type": "markdown",
   "metadata": {},
   "source": [
    "Using \"Bachelors’ Degrees by Major and Sex, Massachusetts, 2015-2016\"\n",
    "by The National Center for Education Statistics"
   ]
  },
  {
   "cell_type": "code",
   "execution_count": 2,
   "metadata": {
    "collapsed": true
   },
   "outputs": [],
   "source": [
    "Dataset = pd.read_csv(\"bachelors_major_ma_2015_16.csv\")"
   ]
  },
  {
   "cell_type": "code",
   "execution_count": 3,
   "metadata": {},
   "outputs": [
    {
     "data": {
      "text/html": [
       "<div>\n",
       "<style>\n",
       "    .dataframe thead tr:only-child th {\n",
       "        text-align: right;\n",
       "    }\n",
       "\n",
       "    .dataframe thead th {\n",
       "        text-align: left;\n",
       "    }\n",
       "\n",
       "    .dataframe tbody tr th {\n",
       "        vertical-align: top;\n",
       "    }\n",
       "</style>\n",
       "<table border=\"1\" class=\"dataframe\">\n",
       "  <thead>\n",
       "    <tr style=\"text-align: right;\">\n",
       "      <th></th>\n",
       "      <th>UnitID</th>\n",
       "      <th>Institution Name</th>\n",
       "      <th>City location of institution (HD2015)</th>\n",
       "      <th>Institution open to the general public (HD2015)</th>\n",
       "      <th>Applicants total (ADM2015_RV)</th>\n",
       "      <th>Admissions total (ADM2015_RV)</th>\n",
       "      <th>Enrolled total (ADM2015_RV)</th>\n",
       "      <th>Unnamed: 7</th>\n",
       "      <th>Grand total (C2016_A  First major  Agriculture  Agriculture Operations and Related Sciences  Bachelor's degree)</th>\n",
       "      <th>Grand total men (C2016_A  First major  Agriculture  Agriculture Operations and Related Sciences  Bachelor's degree)</th>\n",
       "      <th>...</th>\n",
       "      <th>Grand total women (C2016_A  First major  Health Professions and Related Programs  Bachelor's degree)</th>\n",
       "      <th>Grand total (C2016_A  First major  Business  Management  Marketing  and Related Support Services  Bachelor's degree)</th>\n",
       "      <th>Grand total men (C2016_A  First major  Business  Management  Marketing  and Related Support Services  Bachelor's degree)</th>\n",
       "      <th>Grand total women (C2016_A  First major  Business  Management  Marketing  and Related Support Services  Bachelor's degree)</th>\n",
       "      <th>Grand total (C2016_A  First major  History  Bachelor's degree)</th>\n",
       "      <th>Grand total men (C2016_A  First major  History  Bachelor's degree)</th>\n",
       "      <th>Grand total women (C2016_A  First major  History  Bachelor's degree)</th>\n",
       "      <th>Grand total (C2016_A  First major  Grand total  Bachelor's degree)</th>\n",
       "      <th>Grand total men (C2016_A  First major  Grand total  Bachelor's degree)</th>\n",
       "      <th>Grand total women (C2016_A  First major  Grand total  Bachelor's degree)</th>\n",
       "    </tr>\n",
       "  </thead>\n",
       "  <tbody>\n",
       "    <tr>\n",
       "      <th>0</th>\n",
       "      <td>419147</td>\n",
       "      <td>Ailano School of Cosmetology</td>\n",
       "      <td>Brockton</td>\n",
       "      <td>1.0</td>\n",
       "      <td>NaN</td>\n",
       "      <td>NaN</td>\n",
       "      <td>NaN</td>\n",
       "      <td>NaN</td>\n",
       "      <td>NaN</td>\n",
       "      <td>NaN</td>\n",
       "      <td>...</td>\n",
       "      <td>NaN</td>\n",
       "      <td>NaN</td>\n",
       "      <td>NaN</td>\n",
       "      <td>NaN</td>\n",
       "      <td>NaN</td>\n",
       "      <td>NaN</td>\n",
       "      <td>NaN</td>\n",
       "      <td>NaN</td>\n",
       "      <td>NaN</td>\n",
       "      <td>NaN</td>\n",
       "    </tr>\n",
       "    <tr>\n",
       "      <th>1</th>\n",
       "      <td>476735</td>\n",
       "      <td>Alexander Academy</td>\n",
       "      <td>Fitchburg</td>\n",
       "      <td>1.0</td>\n",
       "      <td>NaN</td>\n",
       "      <td>NaN</td>\n",
       "      <td>NaN</td>\n",
       "      <td>NaN</td>\n",
       "      <td>NaN</td>\n",
       "      <td>NaN</td>\n",
       "      <td>...</td>\n",
       "      <td>NaN</td>\n",
       "      <td>NaN</td>\n",
       "      <td>NaN</td>\n",
       "      <td>NaN</td>\n",
       "      <td>NaN</td>\n",
       "      <td>NaN</td>\n",
       "      <td>NaN</td>\n",
       "      <td>NaN</td>\n",
       "      <td>NaN</td>\n",
       "      <td>NaN</td>\n",
       "    </tr>\n",
       "    <tr>\n",
       "      <th>2</th>\n",
       "      <td>487144</td>\n",
       "      <td>American Academy of Personal Training-Boston C...</td>\n",
       "      <td>Boston</td>\n",
       "      <td>1.0</td>\n",
       "      <td>NaN</td>\n",
       "      <td>NaN</td>\n",
       "      <td>NaN</td>\n",
       "      <td>NaN</td>\n",
       "      <td>NaN</td>\n",
       "      <td>NaN</td>\n",
       "      <td>...</td>\n",
       "      <td>NaN</td>\n",
       "      <td>NaN</td>\n",
       "      <td>NaN</td>\n",
       "      <td>NaN</td>\n",
       "      <td>NaN</td>\n",
       "      <td>NaN</td>\n",
       "      <td>NaN</td>\n",
       "      <td>NaN</td>\n",
       "      <td>NaN</td>\n",
       "      <td>NaN</td>\n",
       "    </tr>\n",
       "    <tr>\n",
       "      <th>3</th>\n",
       "      <td>164447</td>\n",
       "      <td>American International College</td>\n",
       "      <td>Springfield</td>\n",
       "      <td>1.0</td>\n",
       "      <td>2060.0</td>\n",
       "      <td>1301.0</td>\n",
       "      <td>355.0</td>\n",
       "      <td>NaN</td>\n",
       "      <td>NaN</td>\n",
       "      <td>NaN</td>\n",
       "      <td>...</td>\n",
       "      <td>85.0</td>\n",
       "      <td>45.0</td>\n",
       "      <td>33.0</td>\n",
       "      <td>12.0</td>\n",
       "      <td>3.0</td>\n",
       "      <td>3.0</td>\n",
       "      <td>0.0</td>\n",
       "      <td>279.0</td>\n",
       "      <td>111.0</td>\n",
       "      <td>168.0</td>\n",
       "    </tr>\n",
       "    <tr>\n",
       "      <th>4</th>\n",
       "      <td>164465</td>\n",
       "      <td>Amherst College</td>\n",
       "      <td>Amherst</td>\n",
       "      <td>1.0</td>\n",
       "      <td>8568.0</td>\n",
       "      <td>1210.0</td>\n",
       "      <td>477.0</td>\n",
       "      <td>NaN</td>\n",
       "      <td>NaN</td>\n",
       "      <td>NaN</td>\n",
       "      <td>...</td>\n",
       "      <td>NaN</td>\n",
       "      <td>NaN</td>\n",
       "      <td>NaN</td>\n",
       "      <td>NaN</td>\n",
       "      <td>29.0</td>\n",
       "      <td>17.0</td>\n",
       "      <td>12.0</td>\n",
       "      <td>432.0</td>\n",
       "      <td>224.0</td>\n",
       "      <td>208.0</td>\n",
       "    </tr>\n",
       "  </tbody>\n",
       "</table>\n",
       "<p>5 rows × 125 columns</p>\n",
       "</div>"
      ],
      "text/plain": [
       "   UnitID                                   Institution Name  \\\n",
       "0  419147                       Ailano School of Cosmetology   \n",
       "1  476735                                  Alexander Academy   \n",
       "2  487144  American Academy of Personal Training-Boston C...   \n",
       "3  164447                     American International College   \n",
       "4  164465                                    Amherst College   \n",
       "\n",
       "  City location of institution (HD2015)  \\\n",
       "0                              Brockton   \n",
       "1                             Fitchburg   \n",
       "2                                Boston   \n",
       "3                           Springfield   \n",
       "4                               Amherst   \n",
       "\n",
       "   Institution open to the general public (HD2015)  \\\n",
       "0                                              1.0   \n",
       "1                                              1.0   \n",
       "2                                              1.0   \n",
       "3                                              1.0   \n",
       "4                                              1.0   \n",
       "\n",
       "   Applicants total (ADM2015_RV)  Admissions total (ADM2015_RV)  \\\n",
       "0                            NaN                            NaN   \n",
       "1                            NaN                            NaN   \n",
       "2                            NaN                            NaN   \n",
       "3                         2060.0                         1301.0   \n",
       "4                         8568.0                         1210.0   \n",
       "\n",
       "   Enrolled total (ADM2015_RV)  Unnamed: 7  \\\n",
       "0                          NaN         NaN   \n",
       "1                          NaN         NaN   \n",
       "2                          NaN         NaN   \n",
       "3                        355.0         NaN   \n",
       "4                        477.0         NaN   \n",
       "\n",
       "   Grand total (C2016_A  First major  Agriculture  Agriculture Operations and Related Sciences  Bachelor's degree)  \\\n",
       "0                                                NaN                                                                 \n",
       "1                                                NaN                                                                 \n",
       "2                                                NaN                                                                 \n",
       "3                                                NaN                                                                 \n",
       "4                                                NaN                                                                 \n",
       "\n",
       "   Grand total men (C2016_A  First major  Agriculture  Agriculture Operations and Related Sciences  Bachelor's degree)  \\\n",
       "0                                                NaN                                                                     \n",
       "1                                                NaN                                                                     \n",
       "2                                                NaN                                                                     \n",
       "3                                                NaN                                                                     \n",
       "4                                                NaN                                                                     \n",
       "\n",
       "                                     ...                                     \\\n",
       "0                                    ...                                      \n",
       "1                                    ...                                      \n",
       "2                                    ...                                      \n",
       "3                                    ...                                      \n",
       "4                                    ...                                      \n",
       "\n",
       "   Grand total women (C2016_A  First major  Health Professions and Related Programs  Bachelor's degree)  \\\n",
       "0                                                NaN                                                      \n",
       "1                                                NaN                                                      \n",
       "2                                                NaN                                                      \n",
       "3                                               85.0                                                      \n",
       "4                                                NaN                                                      \n",
       "\n",
       "   Grand total (C2016_A  First major  Business  Management  Marketing  and Related Support Services  Bachelor's degree)  \\\n",
       "0                                                NaN                                                                      \n",
       "1                                                NaN                                                                      \n",
       "2                                                NaN                                                                      \n",
       "3                                               45.0                                                                      \n",
       "4                                                NaN                                                                      \n",
       "\n",
       "   Grand total men (C2016_A  First major  Business  Management  Marketing  and Related Support Services  Bachelor's degree)  \\\n",
       "0                                                NaN                                                                          \n",
       "1                                                NaN                                                                          \n",
       "2                                                NaN                                                                          \n",
       "3                                               33.0                                                                          \n",
       "4                                                NaN                                                                          \n",
       "\n",
       "   Grand total women (C2016_A  First major  Business  Management  Marketing  and Related Support Services  Bachelor's degree)  \\\n",
       "0                                                NaN                                                                            \n",
       "1                                                NaN                                                                            \n",
       "2                                                NaN                                                                            \n",
       "3                                               12.0                                                                            \n",
       "4                                                NaN                                                                            \n",
       "\n",
       "   Grand total (C2016_A  First major  History  Bachelor's degree)  \\\n",
       "0                                                NaN                \n",
       "1                                                NaN                \n",
       "2                                                NaN                \n",
       "3                                                3.0                \n",
       "4                                               29.0                \n",
       "\n",
       "   Grand total men (C2016_A  First major  History  Bachelor's degree)  \\\n",
       "0                                                NaN                    \n",
       "1                                                NaN                    \n",
       "2                                                NaN                    \n",
       "3                                                3.0                    \n",
       "4                                               17.0                    \n",
       "\n",
       "   Grand total women (C2016_A  First major  History  Bachelor's degree)  \\\n",
       "0                                                NaN                      \n",
       "1                                                NaN                      \n",
       "2                                                NaN                      \n",
       "3                                                0.0                      \n",
       "4                                               12.0                      \n",
       "\n",
       "   Grand total (C2016_A  First major  Grand total  Bachelor's degree)  \\\n",
       "0                                                NaN                    \n",
       "1                                                NaN                    \n",
       "2                                                NaN                    \n",
       "3                                              279.0                    \n",
       "4                                              432.0                    \n",
       "\n",
       "   Grand total men (C2016_A  First major  Grand total  Bachelor's degree)  \\\n",
       "0                                                NaN                        \n",
       "1                                                NaN                        \n",
       "2                                                NaN                        \n",
       "3                                              111.0                        \n",
       "4                                              224.0                        \n",
       "\n",
       "   Grand total women (C2016_A  First major  Grand total  Bachelor's degree)  \n",
       "0                                                NaN                         \n",
       "1                                                NaN                         \n",
       "2                                                NaN                         \n",
       "3                                              168.0                         \n",
       "4                                              208.0                         \n",
       "\n",
       "[5 rows x 125 columns]"
      ]
     },
     "execution_count": 3,
     "metadata": {},
     "output_type": "execute_result"
    }
   ],
   "source": [
    "Dataset[:5]"
   ]
  },
  {
   "cell_type": "markdown",
   "metadata": {},
   "source": [
    "The following shows the sex distribution of Massachusetts college students in stem fields "
   ]
  },
  {
   "cell_type": "markdown",
   "metadata": {},
   "source": [
    "Particulary Engineering, Physical Sciences, and Math majors are sampled "
   ]
  },
  {
   "cell_type": "code",
   "execution_count": 4,
   "metadata": {},
   "outputs": [
    {
     "data": {
      "text/html": [
       "<div>\n",
       "<style>\n",
       "    .dataframe thead tr:only-child th {\n",
       "        text-align: right;\n",
       "    }\n",
       "\n",
       "    .dataframe thead th {\n",
       "        text-align: left;\n",
       "    }\n",
       "\n",
       "    .dataframe tbody tr th {\n",
       "        vertical-align: top;\n",
       "    }\n",
       "</style>\n",
       "<table border=\"1\" class=\"dataframe\">\n",
       "  <thead>\n",
       "    <tr style=\"text-align: right;\">\n",
       "      <th></th>\n",
       "      <th>Enrolled total (ADM2015_RV)</th>\n",
       "      <th>Grand total men (C2016_A  First major  Engineering  Bachelor's degree)</th>\n",
       "      <th>Grand total women (C2016_A  First major  Engineering  Bachelor's degree)</th>\n",
       "      <th>Grand total men (C2016_A  First major  Physical Sciences  Bachelor's degree)</th>\n",
       "      <th>Grand total women (C2016_A  First major  Physical Sciences  Bachelor's degree)</th>\n",
       "      <th>Grand total men (C2016_A  First major  Mathematics and Statistics  Bachelor's degree)</th>\n",
       "      <th>Grand total women (C2016_A  First major  Mathematics and Statistics  Bachelor's degree)</th>\n",
       "    </tr>\n",
       "  </thead>\n",
       "  <tbody>\n",
       "    <tr>\n",
       "      <th>count</th>\n",
       "      <td>16.000000</td>\n",
       "      <td>16.000000</td>\n",
       "      <td>16.000000</td>\n",
       "      <td>16.00000</td>\n",
       "      <td>16.000000</td>\n",
       "      <td>16.000000</td>\n",
       "      <td>16.000000</td>\n",
       "    </tr>\n",
       "    <tr>\n",
       "      <th>mean</th>\n",
       "      <td>1550.687500</td>\n",
       "      <td>164.312500</td>\n",
       "      <td>63.000000</td>\n",
       "      <td>22.62500</td>\n",
       "      <td>16.125000</td>\n",
       "      <td>26.062500</td>\n",
       "      <td>14.875000</td>\n",
       "    </tr>\n",
       "    <tr>\n",
       "      <th>std</th>\n",
       "      <td>1226.493306</td>\n",
       "      <td>175.746681</td>\n",
       "      <td>73.965758</td>\n",
       "      <td>23.38625</td>\n",
       "      <td>13.744696</td>\n",
       "      <td>34.607261</td>\n",
       "      <td>16.280356</td>\n",
       "    </tr>\n",
       "    <tr>\n",
       "      <th>min</th>\n",
       "      <td>114.000000</td>\n",
       "      <td>0.000000</td>\n",
       "      <td>0.000000</td>\n",
       "      <td>0.00000</td>\n",
       "      <td>0.000000</td>\n",
       "      <td>0.000000</td>\n",
       "      <td>0.000000</td>\n",
       "    </tr>\n",
       "    <tr>\n",
       "      <th>25%</th>\n",
       "      <td>800.750000</td>\n",
       "      <td>14.500000</td>\n",
       "      <td>3.750000</td>\n",
       "      <td>6.00000</td>\n",
       "      <td>6.000000</td>\n",
       "      <td>3.000000</td>\n",
       "      <td>4.500000</td>\n",
       "    </tr>\n",
       "    <tr>\n",
       "      <th>50%</th>\n",
       "      <td>1347.000000</td>\n",
       "      <td>103.000000</td>\n",
       "      <td>35.000000</td>\n",
       "      <td>15.00000</td>\n",
       "      <td>11.500000</td>\n",
       "      <td>12.000000</td>\n",
       "      <td>10.000000</td>\n",
       "    </tr>\n",
       "    <tr>\n",
       "      <th>75%</th>\n",
       "      <td>1665.000000</td>\n",
       "      <td>294.000000</td>\n",
       "      <td>80.750000</td>\n",
       "      <td>31.75000</td>\n",
       "      <td>28.250000</td>\n",
       "      <td>31.500000</td>\n",
       "      <td>14.750000</td>\n",
       "    </tr>\n",
       "    <tr>\n",
       "      <th>max</th>\n",
       "      <td>4702.000000</td>\n",
       "      <td>519.000000</td>\n",
       "      <td>232.000000</td>\n",
       "      <td>76.00000</td>\n",
       "      <td>39.000000</td>\n",
       "      <td>125.000000</td>\n",
       "      <td>57.000000</td>\n",
       "    </tr>\n",
       "  </tbody>\n",
       "</table>\n",
       "</div>"
      ],
      "text/plain": [
       "       Enrolled total (ADM2015_RV)  \\\n",
       "count                    16.000000   \n",
       "mean                   1550.687500   \n",
       "std                    1226.493306   \n",
       "min                     114.000000   \n",
       "25%                     800.750000   \n",
       "50%                    1347.000000   \n",
       "75%                    1665.000000   \n",
       "max                    4702.000000   \n",
       "\n",
       "       Grand total men (C2016_A  First major  Engineering  Bachelor's degree)  \\\n",
       "count                                          16.000000                        \n",
       "mean                                          164.312500                        \n",
       "std                                           175.746681                        \n",
       "min                                             0.000000                        \n",
       "25%                                            14.500000                        \n",
       "50%                                           103.000000                        \n",
       "75%                                           294.000000                        \n",
       "max                                           519.000000                        \n",
       "\n",
       "       Grand total women (C2016_A  First major  Engineering  Bachelor's degree)  \\\n",
       "count                                          16.000000                          \n",
       "mean                                           63.000000                          \n",
       "std                                            73.965758                          \n",
       "min                                             0.000000                          \n",
       "25%                                             3.750000                          \n",
       "50%                                            35.000000                          \n",
       "75%                                            80.750000                          \n",
       "max                                           232.000000                          \n",
       "\n",
       "       Grand total men (C2016_A  First major  Physical Sciences  Bachelor's degree)  \\\n",
       "count                                           16.00000                              \n",
       "mean                                            22.62500                              \n",
       "std                                             23.38625                              \n",
       "min                                              0.00000                              \n",
       "25%                                              6.00000                              \n",
       "50%                                             15.00000                              \n",
       "75%                                             31.75000                              \n",
       "max                                             76.00000                              \n",
       "\n",
       "       Grand total women (C2016_A  First major  Physical Sciences  Bachelor's degree)  \\\n",
       "count                                          16.000000                                \n",
       "mean                                           16.125000                                \n",
       "std                                            13.744696                                \n",
       "min                                             0.000000                                \n",
       "25%                                             6.000000                                \n",
       "50%                                            11.500000                                \n",
       "75%                                            28.250000                                \n",
       "max                                            39.000000                                \n",
       "\n",
       "       Grand total men (C2016_A  First major  Mathematics and Statistics  Bachelor's degree)  \\\n",
       "count                                          16.000000                                       \n",
       "mean                                           26.062500                                       \n",
       "std                                            34.607261                                       \n",
       "min                                             0.000000                                       \n",
       "25%                                             3.000000                                       \n",
       "50%                                            12.000000                                       \n",
       "75%                                            31.500000                                       \n",
       "max                                           125.000000                                       \n",
       "\n",
       "       Grand total women (C2016_A  First major  Mathematics and Statistics  Bachelor's degree)  \n",
       "count                                          16.000000                                        \n",
       "mean                                           14.875000                                        \n",
       "std                                            16.280356                                        \n",
       "min                                             0.000000                                        \n",
       "25%                                             4.500000                                        \n",
       "50%                                            10.000000                                        \n",
       "75%                                            14.750000                                        \n",
       "max                                            57.000000                                        "
      ]
     },
     "execution_count": 4,
     "metadata": {},
     "output_type": "execute_result"
    }
   ],
   "source": [
    "Major = Dataset[['Institution Name','Enrolled total (ADM2015_RV)',\"Grand total men (C2016_A  First major  Engineering  Bachelor's degree)\",\"Grand total women (C2016_A  First major  Engineering  Bachelor's degree)\",\"Grand total men (C2016_A  First major  Physical Sciences  Bachelor's degree)\",\"Grand total women (C2016_A  First major  Physical Sciences  Bachelor's degree)\", \"Grand total men (C2016_A  First major  Mathematics and Statistics  Bachelor's degree)\",\"Grand total women (C2016_A  First major  Mathematics and Statistics  Bachelor's degree)\"]]\n",
    "Major = Major.dropna()\n",
    "\n",
    "Major.describe()"
   ]
  },
  {
   "cell_type": "code",
   "execution_count": 5,
   "metadata": {
    "scrolled": true
   },
   "outputs": [
    {
     "name": "stdout",
     "output_type": "stream",
     "text": [
      "[[\"Bard College at Simon's Rock\" 117.0 3.0 1.0 1.0 1.0 3.0 2.0]\n",
      " ['Boston University' 3629.0 276.0 101.0 43.0 33.0 57.0 41.0]\n",
      " ['Eastern Nazarene College' 114.0 4.0 0.0 1.0 0.0 0.0 1.0]\n",
      " ['Harvard University' 1660.0 40.0 37.0 62.0 27.0 125.0 57.0]\n",
      " ['Massachusetts Institute of Technology' 1106.0 236.0 232.0 50.0 36.0 58.0\n",
      "  14.0]\n",
      " ['Merrimack College' 828.0 24.0 3.0 3.0 1.0 3.0 10.0]\n",
      " ['Northeastern University' 2797.0 519.0 148.0 28.0 24.0 23.0 17.0]\n",
      " ['Smith College' 609.0 0.0 33.0 0.0 39.0 0.0 12.0]\n",
      " ['Suffolk University' 1334.0 17.0 4.0 8.0 3.0 3.0 0.0]\n",
      " ['Tufts University' 1360.0 110.0 60.0 22.0 14.0 13.0 10.0]\n",
      " ['University of Massachusetts-Amherst' 4702.0 388.0 74.0 76.0 32.0 70.0\n",
      "  38.0]\n",
      " ['University of Massachusetts-Boston' 1680.0 7.0 1.0 18.0 7.0 11.0 9.0]\n",
      " ['University of Massachusetts-Dartmouth' 1430.0 137.0 23.0 9.0 9.0 11.0\n",
      "  5.0]\n",
      " ['University of Massachusetts-Lowell' 1633.0 348.0 62.0 22.0 18.0 20.0 7.0]\n",
      " ['Western New England University' 719.0 96.0 21.0 7.0 7.0 2.0 3.0]\n",
      " ['Worcester Polytechnic Institute' 1093.0 424.0 208.0 12.0 7.0 18.0 12.0]]\n"
     ]
    }
   ],
   "source": [
    "#TEST CELL\n",
    "unis = Major[0 :1]\n",
    "for x in range(len(Major)):\n",
    "    unis = np.vstack((unis , Major[x+1 :(x+2 )] ))\n",
    "\n",
    "print(unis)"
   ]
  },
  {
   "cell_type": "code",
   "execution_count": 8,
   "metadata": {
    "collapsed": true
   },
   "outputs": [],
   "source": [
    "tot_m_engin = 0\n",
    "tot_w_engin = 0\n",
    "tot_engin = 0\n",
    "\n",
    "tot_m_math = 0\n",
    "tot_w_math = 0\n",
    "tot_math = 0\n",
    "\n",
    "tot_m_phys = 0\n",
    "tot_w_phys = 0\n",
    "tot_phys = 0"
   ]
  },
  {
   "cell_type": "code",
   "execution_count": 13,
   "metadata": {},
   "outputs": [
    {
     "data": {
      "image/png": "[encoded data removed]",
      "text/plain": [
       "<matplotlib.figure.Figure at 0x1a0c3481c50>"
      ]
     },
     "metadata": {},
     "output_type": "display_data"
    },
    {
     "name": "stdout",
     "output_type": "stream",
     "text": [
      "3637.0\n"
     ]
    }
   ],
   "source": [
    "for i in range(len(unis[:,1])):\n",
    "    name = (unis[i,0])\n",
    "    enroll = (unis[i,1])\n",
    "   \n",
    "    m_engin = (unis[i,2])\n",
    "    w_engin =(unis[i,3])\n",
    "    \n",
    "    loc_engin = m_engin + w_engin\n",
    "    tot_engin = tot_engin + loc_engin\n",
    "    \n",
    "    if m_engin or w_engin > 0:\n",
    "        plt.plot(m_engin, w_engin , color='green', marker='o')\n",
    "    \n",
    "plt.show()   \n",
    "\n",
    "print(tot_engin)"
   ]
  },
  {
   "cell_type": "code",
   "execution_count": 12,
   "metadata": {},
   "outputs": [
    {
     "data": {
      "image/png": "[encoded data removed]",
      "text/plain": [
       "<matplotlib.figure.Figure at 0x1a0c337ae80>"
      ]
     },
     "metadata": {},
     "output_type": "display_data"
    },
    {
     "name": "stdout",
     "output_type": "stream",
     "text": [
      "620.0\n"
     ]
    }
   ],
   "source": [
    "for i in range(len(unis[:,1])):    \n",
    "    m_phys = (unis[i,4])\n",
    "    w_phys =(unis[i,5])\n",
    "    \n",
    "    loc_phys = m_phys + w_phys\n",
    "    tot_phys = tot_phys + loc_phys\n",
    "    \n",
    "    if m_phys or w_phys > 0:\n",
    "        plt.plot(m_phys, w_phys, color='blue', marker='o')\n",
    "plt.show()\n",
    "\n",
    "print(tot_phys)"
   ]
  },
  {
   "cell_type": "code",
   "execution_count": 14,
   "metadata": {},
   "outputs": [
    {
     "data": {
      "image/png": "[encoded data removed]",
      "text/plain": [
       "<matplotlib.figure.Figure at 0x1a0c45caf60>"
      ]
     },
     "metadata": {},
     "output_type": "display_data"
    },
    {
     "name": "stdout",
     "output_type": "stream",
     "text": [
      "655.0\n"
     ]
    }
   ],
   "source": [
    "for i in range(len(unis[:,1])):   \n",
    "    m_math = (unis[i,6])\n",
    "    w_math = (unis[i,7])\n",
    "    \n",
    "    loc_math = m_math + w_math\n",
    "    tot_math = tot_math + loc_math\n",
    "    if m_math or w_math > 0:\n",
    "        plt.plot(m_math, w_math , color='black', marker='o')\n",
    "    \n",
    "plt.show()\n",
    "\n",
    "print(tot_math)"
   ]
  },
  {
   "cell_type": "code",
   "execution_count": 30,
   "metadata": {},
   "outputs": [
    {
     "data": {
      "image/png": "[encoded data removed]",
      "text/plain": [
       "<matplotlib.figure.Figure at 0x1a0c45cdc18>"
      ]
     },
     "metadata": {},
     "output_type": "display_data"
    }
   ],
   "source": [
    "\n",
    "\n",
    "for i in range(len(unis[:,1])):   \n",
    "    \n",
    "    \n",
    "    \n",
    "    m_math = (unis[i,6])\n",
    "    w_math = (unis[i,7])\n",
    "    \n",
    "    loc_math = m_math + w_math\n",
    "    pcent_w = w_math/loc_math\n",
    "\n",
    "    \n",
    "        \n",
    "plt.hist(pcent_w, bins = 30)\n",
    "plt.show()"
   ]
  },
  {
   "cell_type": "code",
   "execution_count": 28,
   "metadata": {
    "collapsed": true
   },
   "outputs": [],
   "source": [
    "plt.hist?"
   ]
  },
  {
   "cell_type": "code",
   "execution_count": null,
   "metadata": {
    "collapsed": true
   },
   "outputs": [],
   "source": []
  },
  {
   "cell_type": "code",
   "execution_count": null,
   "metadata": {
    "collapsed": true
   },
   "outputs": [],
   "source": []
  },
  {
   "cell_type": "code",
   "execution_count": null,
   "metadata": {
    "collapsed": true
   },
   "outputs": [],
   "source": []
  },
  {
   "cell_type": "code",
   "execution_count": 13,
   "metadata": {},
   "outputs": [
    {
     "name": "stdout",
     "output_type": "stream",
     "text": [
      "3637.0 620.0 655.0\n"
     ]
    }
   ],
   "source": [
    "tot_m_engin = 0\n",
    "tot_w_engin = 0\n",
    "tot_engin = 0\n",
    "\n",
    "tot_m_math = 0\n",
    "tot_w_math = 0\n",
    "tot_math = 0\n",
    "\n",
    "tot_m_phys = 0\n",
    "tot_w_phys = 0\n",
    "tot_phys = 0\n",
    "\n",
    "for i in range(len(unis[:,1])):\n",
    "    name = (unis[i,0])\n",
    "    enroll = (unis[i,1])\n",
    "   \n",
    "    m_engin = (unis[i,2])\n",
    "    w_engin =(unis[i,3])\n",
    "    \n",
    "    loc_engin = m_engin + w_engin\n",
    "    tot_engin = tot_engin + loc_engin\n",
    "    \n",
    "    \n",
    "    m_phys = (unis[i,4])\n",
    "    w_phys =(unis[i,5])\n",
    "    \n",
    "    loc_phys = m_phys + w_phys\n",
    "    tot_phys = tot_phys + loc_phys\n",
    "    \n",
    "    \n",
    "    m_math = (unis[i,6])\n",
    "    w_math = (unis[i,7])\n",
    "    \n",
    "    loc_math = m_math + w_math\n",
    "    tot_math = tot_math + loc_math\n",
    "    \n",
    "    \"\"\"\n",
    "    plt.plot(enroll, (m_engin + w_engin) , color='green', marker='o')\n",
    "    plt.plot(enroll, (m_phys + w_phys) , color='blue', marker='o')\n",
    "    plt.plot(enroll,(m_math + w_math) , color='black', marker='o')\n",
    "    \n",
    "    plt.show()\"\"\"\n",
    "\n",
    "print(tot_engin, tot_phys, tot_math)"
   ]
  },
  {
   "cell_type": "code",
   "execution_count": null,
   "metadata": {
    "collapsed": true
   },
   "outputs": [],
   "source": []
  },
  {
   "cell_type": "code",
   "execution_count": null,
   "metadata": {
    "collapsed": true
   },
   "outputs": [],
   "source": []
  },
  {
   "cell_type": "code",
   "execution_count": null,
   "metadata": {
    "collapsed": true
   },
   "outputs": [],
   "source": []
  },
  {
   "cell_type": "code",
   "execution_count": null,
   "metadata": {
    "collapsed": true
   },
   "outputs": [],
   "source": []
  },
  {
   "cell_type": "code",
   "execution_count": null,
   "metadata": {
    "collapsed": true
   },
   "outputs": [],
   "source": []
  },
  {
   "cell_type": "code",
   "execution_count": null,
   "metadata": {
    "collapsed": true
   },
   "outputs": [],
   "source": []
  },
  {
   "cell_type": "markdown",
   "metadata": {
    "collapsed": true
   },
   "source": [
    "# Junk"
   ]
  },
  {
   "cell_type": "code",
   "execution_count": 25,
   "metadata": {},
   "outputs": [
    {
     "data": {
      "image/png": "[encoded data removed]",
      "text/plain": [
       "<matplotlib.figure.Figure at 0x1f0a179c470>"
      ]
     },
     "metadata": {},
     "output_type": "display_data"
    }
   ],
   "source": [
    "#first trial\n",
    "\n",
    "for i in range(len(unis[:,1])):\n",
    "    name = (unis[i,0])\n",
    "    enroll = (unis[i,1])\n",
    "   \n",
    "    m_engin = (unis[i,2])\n",
    "    w_engin =(unis[i,3])\n",
    "    \n",
    "    m_phys = (unis[i,4])\n",
    "    w_phys =(unis[i,5])\n",
    "    \n",
    "    m_math = (unis[i,6])\n",
    "    w_math = (unis[i,7])\n",
    "    \n",
    "    plt.plot(enroll, (m_engin + w_engin) , color='green', marker='o')\n",
    "    plt.plot(enroll, (m_phys + w_phys) , color='blue', marker='o')\n",
    "    plt.plot(enroll,(m_math + w_math) , color='black', marker='o')"
   ]
  },
  {
   "cell_type": "code",
   "execution_count": 24,
   "metadata": {},
   "outputs": [
    {
     "name": "stdout",
     "output_type": "stream",
     "text": [
      "['Ailano School of Cosmetology' nan nan nan nan nan nan nan]\n",
      "[['Ailano School of Cosmetology' nan nan ..., nan nan nan]\n",
      " ['Alexander Academy' nan nan ..., nan nan nan]\n",
      " ['American Academy of Personal Training-Boston Campus' nan nan ..., nan\n",
      "  nan nan]\n",
      " ..., \n",
      " ['Williams College' 551.0 nan ..., 38.0 22.0 14.0]\n",
      " ['Worcester Polytechnic Institute' 1093.0 424.0 ..., 7.0 18.0 12.0]\n",
      " ['Worcester State University' 814.0 nan ..., 8.0 3.0 3.0]]\n"
     ]
    }
   ],
   "source": [
    "print(unis[0,:])\n",
    "print(unis[:,:])"
   ]
  },
  {
   "cell_type": "code",
   "execution_count": 65,
   "metadata": {
    "collapsed": true
   },
   "outputs": [],
   "source": [
    "bu = Major[28:29]\n",
    "uml = Major[177:178]\n",
    "uma = Major[173:174]\n",
    "wpi = Major[189:190]\n",
    "wit = Major[182:183]\n",
    "\n"
   ]
  }
 ],
 "metadata": {
  "kernelspec": {
   "display_name": "Python 3",
   "language": "python",
   "name": "python3"
  },
  "language_info": {
   "codemirror_mode": {
    "name": "ipython",
    "version": 3
   },
   "file_extension": ".py",
   "mimetype": "text/x-python",
   "name": "python",
   "nbconvert_exporter": "python",
   "pygments_lexer": "ipython3",
   "version": "3.6.0"
  }
 },
 "nbformat": 4,
 "nbformat_minor": 2
}
