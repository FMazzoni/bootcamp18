{
 "cells": [
  {
   "cell_type": "code",
   "execution_count": 1,
   "metadata": {},
   "outputs": [
    {
     "name": "stdout",
     "output_type": "stream",
     "text": [
      "Hello World\n"
     ]
    }
   ],
   "source": [
    "import numpy as np \n",
    "hello ='Hello World'\n",
    "print(hello)\n"
   ]
  },
  {
   "cell_type": "code",
   "execution_count": 2,
   "metadata": {},
   "outputs": [
    {
     "name": "stdout",
     "output_type": "stream",
     "text": [
      "[1 2 3]\n"
     ]
    }
   ],
   "source": [
    "arr1=np.array([1,2,3])\n",
    "print(arr1)"
   ]
  },
  {
   "cell_type": "code",
   "execution_count": 22,
   "metadata": {},
   "outputs": [
    {
     "name": "stdout",
     "output_type": "stream",
     "text": [
      "[[1 2]\n",
      " [3 4]]\n"
     ]
    }
   ],
   "source": [
    "arr2=np.array([[1,2],[3,4]])\n",
    "print(arr2)"
   ]
  },
  {
   "cell_type": "code",
   "execution_count": 12,
   "metadata": {},
   "outputs": [
    {
     "data": {
      "text/plain": [
       "4"
      ]
     },
     "execution_count": 12,
     "metadata": {},
     "output_type": "execute_result"
    }
   ],
   "source": [
    "arr2[1,1]"
   ]
  },
  {
   "cell_type": "code",
   "execution_count": 18,
   "metadata": {},
   "outputs": [
    {
     "name": "stdout",
     "output_type": "stream",
     "text": [
      "[[[1 2 3 4 5 6]]]\n",
      "[[[ 1.  2.  3.  4.  5.  6.]]]\n",
      "[False  True False  True]\n"
     ]
    }
   ],
   "source": [
    "arr3=np.array([1, 2, 3, 4, 5, 6], ndmin=3)\n",
    "print(arr3)\n",
    "arr_float=np.array(arr3, dtype=float)\n",
    "print(arr_float)\n",
    "arr4=np.array([0,1,0,1])\n",
    "arr_bool=np.array(arr4, dtype=bool)\n",
    "print(arr_bool)"
   ]
  },
  {
   "cell_type": "code",
   "execution_count": 19,
   "metadata": {},
   "outputs": [
    {
     "name": "stdout",
     "output_type": "stream",
     "text": [
      "[[[1 2 3 4 5 6]]]\n",
      "(1, 1, 6)\n"
     ]
    }
   ],
   "source": [
    "print(arr3)\n",
    "print(arr3.shape)"
   ]
  },
  {
   "cell_type": "code",
   "execution_count": 24,
   "metadata": {},
   "outputs": [
    {
     "name": "stdout",
     "output_type": "stream",
     "text": [
      "[[1 2]\n",
      " [3 4]]\n",
      "(2, 2) \n",
      "\n",
      "[[1]\n",
      " [2]\n",
      " [3]\n",
      " [4]]\n",
      "(4, 1)\n"
     ]
    }
   ],
   "source": [
    "arr4=np.array(arr2)\n",
    "print(arr4)\n",
    "print(arr4.shape,'\\n')\n",
    "arr4.shape=(4,1)\n",
    "print(arr4)\n",
    "print(arr4.shape)\n"
   ]
  },
  {
   "cell_type": "code",
   "execution_count": 27,
   "metadata": {},
   "outputs": [
    {
     "name": "stdout",
     "output_type": "stream",
     "text": [
      "[[1]\n",
      " [2]\n",
      " [3]\n",
      " [4]]\n"
     ]
    }
   ],
   "source": [
    "arr5=arr2.reshape(4,1)\n",
    "print(arr5)\n"
   ]
  },
  {
   "cell_type": "code",
   "execution_count": 29,
   "metadata": {},
   "outputs": [
    {
     "name": "stdout",
     "output_type": "stream",
     "text": [
      "[ 1  2  3  4  5  6  7  8  9 10 11 12 13 14 15 16 17 18 19 20]\n"
     ]
    }
   ],
   "source": [
    "x=np.arange(1,21)\n",
    "print(x)"
   ]
  },
  {
   "cell_type": "code",
   "execution_count": 35,
   "metadata": {},
   "outputs": [
    {
     "name": "stdout",
     "output_type": "stream",
     "text": [
      "[  1.           3.11111111   5.22222222   7.33333333   9.44444444\n",
      "  11.55555556  13.66666667  15.77777778  17.88888889  20.        ]\n"
     ]
    }
   ],
   "source": [
    "y=np.linspace(1,20,num=10)\n",
    "print(y)"
   ]
  },
  {
   "cell_type": "code",
   "execution_count": 37,
   "metadata": {},
   "outputs": [
    {
     "name": "stdout",
     "output_type": "stream",
     "text": [
      "[1 2 3 4]\n"
     ]
    }
   ],
   "source": [
    "xnum_arr=np.array([1,2,3,4]) \n",
    "print(xnum_arr)"
   ]
  },
  {
   "cell_type": "code",
   "execution_count": 41,
   "metadata": {},
   "outputs": [
    {
     "name": "stdout",
     "output_type": "stream",
     "text": [
      "[ 5  7  9 11 13 15 17 19 21 23 25 27 29]\n",
      "[ 5  7  9 11 13]\n",
      "[ 9 11 13]\n",
      "[19 21 23 25 27 29]\n"
     ]
    }
   ],
   "source": [
    "a=np.arange(5,30,2)\n",
    "print(a)\n",
    "print(a[:5])\n",
    "print(a[2:5])\n",
    "print(a[7:])"
   ]
  },
  {
   "cell_type": "code",
   "execution_count": 42,
   "metadata": {},
   "outputs": [
    {
     "name": "stdout",
     "output_type": "stream",
     "text": [
      "[29 27 25 23 21 19 17 15 13 11  9  7  5]\n"
     ]
    }
   ],
   "source": [
    "print(a[::-1])"
   ]
  },
  {
   "cell_type": "code",
   "execution_count": 45,
   "metadata": {},
   "outputs": [
    {
     "name": "stdout",
     "output_type": "stream",
     "text": [
      "[[9 6 4 3]\n",
      " [3 5 6 7]\n",
      " [3 4 6 2]]\n",
      "[9 6 4 3 3 5 6 7 3 4 6 2]\n"
     ]
    }
   ],
   "source": [
    "m=np.array([9,6,4,3])\n",
    "n=np.array([3,5,6,7])\n",
    "o=np.array([3,4,6,2])\n",
    "print(np.vstack([m,n,o]))\n",
    "print(np.hstack([m,n,o]))\n"
   ]
  },
  {
   "cell_type": "code",
   "execution_count": 46,
   "metadata": {},
   "outputs": [
    {
     "name": "stdout",
     "output_type": "stream",
     "text": [
      "r= [0 1 2 3 4 5 6 7]\n",
      "r+10 [10 11 12 13 14 15 16 17]\n"
     ]
    }
   ],
   "source": [
    "r=np.arange(8)\n",
    "print(\"r=\",r)\n",
    "print(\"r+10\", r+10)"
   ]
  },
  {
   "cell_type": "code",
   "execution_count": 48,
   "metadata": {
    "scrolled": false
   },
   "outputs": [
    {
     "name": "stdout",
     "output_type": "stream",
     "text": [
      "[0 1 2 3 4 5 6 7]\n"
     ]
    }
   ],
   "source": [
    "print(r)"
   ]
  },
  {
   "cell_type": "code",
   "execution_count": 60,
   "metadata": {},
   "outputs": [
    {
     "name": "stdout",
     "output_type": "stream",
     "text": [
      "[8 7 4 7 5 4 6 3 3 9 2 7 1 8 6 1 2 7 5 5 4 5 7 6 3 1 7 9 4 5 4 1 9 5 5 5 4\n",
      " 7 8 6 1 6 5 3 1 2 5 7 5 4 2 6 7 4 3 9 9 2 7 6 6 3 7 2 9 2 1 9 9 8 7 4 4 7\n",
      " 1 7 2 3 4 7 9 2 8 4 8 1 5 7 5 1 2 2 5 4 9 4 7 6 6 2]\n",
      "mean=  4.98\n",
      "variance  6.0196\n",
      "standard deviation  2.45348731401\n"
     ]
    }
   ],
   "source": [
    "X=np.random.randint( 1,10,100)\n",
    "print(X)\n",
    "print(\"mean= \", np.mean(X))\n",
    "print(\"variance \", np.var(X))\n",
    "print(\"standard deviation \", np.std(X))\n"
   ]
  },
  {
   "cell_type": "code",
   "execution_count": null,
   "metadata": {
    "collapsed": true
   },
   "outputs": [],
   "source": []
  }
 ],
 "metadata": {
  "kernelspec": {
   "display_name": "Python 3",
   "language": "python",
   "name": "python3"
  },
  "language_info": {
   "codemirror_mode": {
    "name": "ipython",
    "version": 3
   },
   "file_extension": ".py",
   "mimetype": "text/x-python",
   "name": "python",
   "nbconvert_exporter": "python",
   "pygments_lexer": "ipython3",
   "version": "3.6.0"
  }
 },
 "nbformat": 4,
 "nbformat_minor": 2
}
